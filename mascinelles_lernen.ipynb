{
 "cells": [
  {
   "cell_type": "code",
   "execution_count": 29,
   "metadata": {},
   "outputs": [],
   "source": [
    "from pylab import *"
   ]
  },
  {
   "cell_type": "code",
   "execution_count": 30,
   "metadata": {},
   "outputs": [
    {
     "name": "stdout",
     "output_type": "stream",
     "text": [
      "[-2 -2  0  1  2  3  4  5  6]\n"
     ]
    }
   ],
   "source": [
    "x = array([-2,-2,0, 1,2,3,4,5,6])\n",
    "print(x)"
   ]
  },
  {
   "cell_type": "code",
   "execution_count": 18,
   "metadata": {},
   "outputs": [],
   "source": [
    "import numpy as np"
   ]
  },
  {
   "cell_type": "code",
   "execution_count": 19,
   "metadata": {},
   "outputs": [
    {
     "name": "stdout",
     "output_type": "stream",
     "text": [
      "[[-2]\n",
      " [-2]\n",
      " [ 0]\n",
      " [ 1]\n",
      " [ 2]\n",
      " [ 3]\n",
      " [ 4]\n",
      " [ 5]\n",
      " [ 6]]\n"
     ]
    }
   ],
   "source": [
    "x = np.c_[([-2,-2,0, 1,2,3,4,5,6])]\n",
    "print(x)"
   ]
  },
  {
   "cell_type": "code",
   "execution_count": 31,
   "metadata": {},
   "outputs": [],
   "source": [
    "y = x**3 -6*x**2+ 3*x + 20"
   ]
  },
  {
   "cell_type": "code",
   "execution_count": 32,
   "metadata": {},
   "outputs": [
    {
     "name": "stdout",
     "output_type": "stream",
     "text": [
      "[-18 -18  20  18  10   2   0  10  38]\n"
     ]
    }
   ],
   "source": [
    "print(y)"
   ]
  },
  {
   "cell_type": "markdown",
   "metadata": {},
   "source": [
    "$$y = x^3 - 6x^2 + 3x + 20$$"
   ]
  },
  {
   "cell_type": "code",
   "execution_count": 33,
   "metadata": {},
   "outputs": [
    {
     "data": {
      "text/plain": [
       "[<matplotlib.lines.Line2D at 0x2a8d7c43a60>]"
      ]
     },
     "execution_count": 33,
     "metadata": {},
     "output_type": "execute_result"
    },
    {
     "data": {
      "image/png": "[encoded data removed]",
      "text/plain": [
       "<Figure size 432x288 with 1 Axes>"
      ]
     },
     "metadata": {
      "needs_background": "light"
     },
     "output_type": "display_data"
    }
   ],
   "source": [
    "plot(x,y, 'ro')"
   ]
  },
  {
   "cell_type": "code",
   "execution_count": 34,
   "metadata": {},
   "outputs": [],
   "source": [
    "from scipy.optimize import curve_fit\n"
   ]
  },
  {
   "cell_type": "code",
   "execution_count": 35,
   "metadata": {},
   "outputs": [
    {
     "data": {
      "text/plain": [
       "<function scipy.optimize._minpack_py.curve_fit(f, xdata, ydata, p0=None, sigma=None, absolute_sigma=False, check_finite=None, bounds=(-inf, inf), method=None, jac=None, *, full_output=False, nan_policy=None, **kwargs)>"
      ]
     },
     "execution_count": 35,
     "metadata": {},
     "output_type": "execute_result"
    }
   ],
   "source": [
    "curve_fit"
   ]
  },
  {
   "cell_type": "code",
   "execution_count": 36,
   "metadata": {},
   "outputs": [],
   "source": [
    "def f(x,a,b,c,d):\n",
    "    return a+b*x + c *x**2 +d*x**3"
   ]
  },
  {
   "cell_type": "code",
   "execution_count": 37,
   "metadata": {},
   "outputs": [
    {
     "data": {
      "text/plain": [
       "9"
      ]
     },
     "execution_count": 37,
     "metadata": {},
     "output_type": "execute_result"
    }
   ],
   "source": [
    "f(1,2,2,2,3)"
   ]
  },
  {
   "cell_type": "markdown",
   "metadata": {},
   "source": [
    "where :\n",
    "<ul>\n",
    "<li>x = 1\n",
    "<li>a = 2\n",
    "<li>b = 2\n",
    "<li>c = 2\n",
    "<li>d = 3\n",
    "</ul>"
   ]
  },
  {
   "cell_type": "code",
   "execution_count": 38,
   "metadata": {},
   "outputs": [],
   "source": [
    "coefs, cov = curve_fit(f,x,y)"
   ]
  },
  {
   "cell_type": "code",
   "execution_count": 39,
   "metadata": {},
   "outputs": [
    {
     "name": "stdout",
     "output_type": "stream",
     "text": [
      "Koeffizienten :  [20.  3. -6.  1.]\n"
     ]
    }
   ],
   "source": [
    "print(\"Koeffizienten : \", coefs)"
   ]
  },
  {
   "cell_type": "code",
   "execution_count": 40,
   "metadata": {},
   "outputs": [
    {
     "name": "stdout",
     "output_type": "stream",
     "text": [
      "[-18. -18.  20.  18.  10.   2.   0.  10.  38.]\n"
     ]
    }
   ],
   "source": [
    "y_pred = f(x, *coefs)\n",
    "print(y_pred)"
   ]
  },
  {
   "cell_type": "code",
   "execution_count": null,
   "metadata": {},
   "outputs": [],
   "source": [
    "from sklearn.preprocessing import PolynomialFeatures\n",
    "from sklearn.linear_model import LinearRegression"
   ]
  },
  {
   "cell_type": "code",
   "execution_count": 42,
   "metadata": {},
   "outputs": [
    {
     "data": {
      "text/plain": [
       "[<matplotlib.lines.Line2D at 0x2a8dab0d600>]"
      ]
     },
     "execution_count": 42,
     "metadata": {},
     "output_type": "execute_result"
    },
    {
     "data": {
      "image/png": "[encoded data removed]",
      "text/plain": [
       "<Figure size 432x288 with 1 Axes>"
      ]
     },
     "metadata": {
      "needs_background": "light"
     },
     "output_type": "display_data"
    }
   ],
   "source": [
    "plot(x, y_pred)\n",
    "plot(x,y,'ro')\n",
    "#x_arange = linspace(-2,6, 100)\n",
    "#plot(x_arange,y_pred, 'g')"
   ]
  },
  {
   "cell_type": "code",
   "execution_count": 49,
   "metadata": {},
   "outputs": [
    {
     "data": {
      "text/plain": [
       "[<matplotlib.lines.Line2D at 0x2a8dac64280>]"
      ]
     },
     "execution_count": 49,
     "metadata": {},
     "output_type": "execute_result"
    },
    {
     "data": {
      "image/png": "[encoded data removed]",
      "text/plain": [
       "<Figure size 432x288 with 1 Axes>"
      ]
     },
     "metadata": {
      "needs_background": "light"
     },
     "output_type": "display_data"
    }
   ],
   "source": [
    "x_new = linspace(min(x), max(x),100)\n",
    "ynew = f(x_new, *coefs)\n",
    "plot(x_new, ynew)\n",
    "plot(x, y, 'ro')"
   ]
  },
  {
   "cell_type": "code",
   "execution_count": 30,
   "metadata": {},
   "outputs": [
    {
     "ename": "ValueError",
     "evalue": "Expected 2D array, got 1D array instead:\narray=[-2 -2  0  1  2  3  4  5  6].\nReshape your data either using array.reshape(-1, 1) if your data has a single feature or array.reshape(1, -1) if it contains a single sample.",
     "output_type": "error",
     "traceback": [
      "\u001b[1;31m---------------------------------------------------------------------------\u001b[0m",
      "\u001b[1;31mValueError\u001b[0m                                Traceback (most recent call last)",
      "\u001b[1;32mc:\\numerical modeling fix deep learning asu\\Maschinelles Lernen\\mascinelles_lernen.ipynb Cell 17\u001b[0m line \u001b[0;36m<cell line: 2>\u001b[1;34m()\u001b[0m\n\u001b[0;32m      <a href='vscode-notebook-cell:/c%3A/numerical%20modeling%20fix%20deep%20learning%20asu/Maschinelles%20Lernen/mascinelles_lernen.ipynb#X22sZmlsZQ%3D%3D?line=0'>1</a>\u001b[0m poly \u001b[39m=\u001b[39m PolynomialFeatures(\u001b[39m5\u001b[39m)\n\u001b[1;32m----> <a href='vscode-notebook-cell:/c%3A/numerical%20modeling%20fix%20deep%20learning%20asu/Maschinelles%20Lernen/mascinelles_lernen.ipynb#X22sZmlsZQ%3D%3D?line=1'>2</a>\u001b[0m x_trans \u001b[39m=\u001b[39m poly\u001b[39m.\u001b[39;49mfit_transform(x)\n\u001b[0;32m      <a href='vscode-notebook-cell:/c%3A/numerical%20modeling%20fix%20deep%20learning%20asu/Maschinelles%20Lernen/mascinelles_lernen.ipynb#X22sZmlsZQ%3D%3D?line=2'>3</a>\u001b[0m model \u001b[39m=\u001b[39m LinearRegression()\n\u001b[0;32m      <a href='vscode-notebook-cell:/c%3A/numerical%20modeling%20fix%20deep%20learning%20asu/Maschinelles%20Lernen/mascinelles_lernen.ipynb#X22sZmlsZQ%3D%3D?line=3'>4</a>\u001b[0m model \u001b[39m=\u001b[39m model\u001b[39m.\u001b[39mfit(x_trans, y)\n",
      "File \u001b[1;32m~\\AppData\\Roaming\\Python\\Python310\\site-packages\\sklearn\\base.py:867\u001b[0m, in \u001b[0;36mTransformerMixin.fit_transform\u001b[1;34m(self, X, y, **fit_params)\u001b[0m\n\u001b[0;32m    863\u001b[0m \u001b[39m# non-optimized default implementation; override when a better\u001b[39;00m\n\u001b[0;32m    864\u001b[0m \u001b[39m# method is possible for a given clustering algorithm\u001b[39;00m\n\u001b[0;32m    865\u001b[0m \u001b[39mif\u001b[39;00m y \u001b[39mis\u001b[39;00m \u001b[39mNone\u001b[39;00m:\n\u001b[0;32m    866\u001b[0m     \u001b[39m# fit method of arity 1 (unsupervised transformation)\u001b[39;00m\n\u001b[1;32m--> 867\u001b[0m     \u001b[39mreturn\u001b[39;00m \u001b[39mself\u001b[39m\u001b[39m.\u001b[39mfit(X, \u001b[39m*\u001b[39m\u001b[39m*\u001b[39mfit_params)\u001b[39m.\u001b[39mtransform(X)\n\u001b[0;32m    868\u001b[0m \u001b[39melse\u001b[39;00m:\n\u001b[0;32m    869\u001b[0m     \u001b[39m# fit method of arity 2 (supervised transformation)\u001b[39;00m\n\u001b[0;32m    870\u001b[0m     \u001b[39mreturn\u001b[39;00m \u001b[39mself\u001b[39m\u001b[39m.\u001b[39mfit(X, y, \u001b[39m*\u001b[39m\u001b[39m*\u001b[39mfit_params)\u001b[39m.\u001b[39mtransform(X)\n",
      "File \u001b[1;32m~\\AppData\\Roaming\\Python\\Python310\\site-packages\\sklearn\\preprocessing\\_polynomial.py:287\u001b[0m, in \u001b[0;36mPolynomialFeatures.fit\u001b[1;34m(self, X, y)\u001b[0m\n\u001b[0;32m    270\u001b[0m \u001b[39mdef\u001b[39;00m \u001b[39mfit\u001b[39m(\u001b[39mself\u001b[39m, X, y\u001b[39m=\u001b[39m\u001b[39mNone\u001b[39;00m):\n\u001b[0;32m    271\u001b[0m \u001b[39m    \u001b[39m\u001b[39m\"\"\"\u001b[39;00m\n\u001b[0;32m    272\u001b[0m \u001b[39m    Compute number of output features.\u001b[39;00m\n\u001b[0;32m    273\u001b[0m \n\u001b[1;32m   (...)\u001b[0m\n\u001b[0;32m    285\u001b[0m \u001b[39m        Fitted transformer.\u001b[39;00m\n\u001b[0;32m    286\u001b[0m \u001b[39m    \"\"\"\u001b[39;00m\n\u001b[1;32m--> 287\u001b[0m     _, n_features \u001b[39m=\u001b[39m \u001b[39mself\u001b[39;49m\u001b[39m.\u001b[39;49m_validate_data(X, accept_sparse\u001b[39m=\u001b[39;49m\u001b[39mTrue\u001b[39;49;00m)\u001b[39m.\u001b[39mshape\n\u001b[0;32m    289\u001b[0m     \u001b[39mif\u001b[39;00m \u001b[39misinstance\u001b[39m(\u001b[39mself\u001b[39m\u001b[39m.\u001b[39mdegree, numbers\u001b[39m.\u001b[39mIntegral):\n\u001b[0;32m    290\u001b[0m         \u001b[39mif\u001b[39;00m \u001b[39mself\u001b[39m\u001b[39m.\u001b[39mdegree \u001b[39m<\u001b[39m \u001b[39m0\u001b[39m:\n",
      "File \u001b[1;32m~\\AppData\\Roaming\\Python\\Python310\\site-packages\\sklearn\\base.py:577\u001b[0m, in \u001b[0;36mBaseEstimator._validate_data\u001b[1;34m(self, X, y, reset, validate_separately, **check_params)\u001b[0m\n\u001b[0;32m    575\u001b[0m     \u001b[39mraise\u001b[39;00m \u001b[39mValueError\u001b[39;00m(\u001b[39m\"\u001b[39m\u001b[39mValidation should be done on X, y or both.\u001b[39m\u001b[39m\"\u001b[39m)\n\u001b[0;32m    576\u001b[0m \u001b[39melif\u001b[39;00m \u001b[39mnot\u001b[39;00m no_val_X \u001b[39mand\u001b[39;00m no_val_y:\n\u001b[1;32m--> 577\u001b[0m     X \u001b[39m=\u001b[39m check_array(X, input_name\u001b[39m=\u001b[39m\u001b[39m\"\u001b[39m\u001b[39mX\u001b[39m\u001b[39m\"\u001b[39m, \u001b[39m*\u001b[39m\u001b[39m*\u001b[39mcheck_params)\n\u001b[0;32m    578\u001b[0m     out \u001b[39m=\u001b[39m X\n\u001b[0;32m    579\u001b[0m \u001b[39melif\u001b[39;00m no_val_X \u001b[39mand\u001b[39;00m \u001b[39mnot\u001b[39;00m no_val_y:\n",
      "File \u001b[1;32m~\\AppData\\Roaming\\Python\\Python310\\site-packages\\sklearn\\utils\\validation.py:879\u001b[0m, in \u001b[0;36mcheck_array\u001b[1;34m(array, accept_sparse, accept_large_sparse, dtype, order, copy, force_all_finite, ensure_2d, allow_nd, ensure_min_samples, ensure_min_features, estimator, input_name)\u001b[0m\n\u001b[0;32m    877\u001b[0m     \u001b[39m# If input is 1D raise error\u001b[39;00m\n\u001b[0;32m    878\u001b[0m     \u001b[39mif\u001b[39;00m array\u001b[39m.\u001b[39mndim \u001b[39m==\u001b[39m \u001b[39m1\u001b[39m:\n\u001b[1;32m--> 879\u001b[0m         \u001b[39mraise\u001b[39;00m \u001b[39mValueError\u001b[39;00m(\n\u001b[0;32m    880\u001b[0m             \u001b[39m\"\u001b[39m\u001b[39mExpected 2D array, got 1D array instead:\u001b[39m\u001b[39m\\n\u001b[39;00m\u001b[39marray=\u001b[39m\u001b[39m{}\u001b[39;00m\u001b[39m.\u001b[39m\u001b[39m\\n\u001b[39;00m\u001b[39m\"\u001b[39m\n\u001b[0;32m    881\u001b[0m             \u001b[39m\"\u001b[39m\u001b[39mReshape your data either using array.reshape(-1, 1) if \u001b[39m\u001b[39m\"\u001b[39m\n\u001b[0;32m    882\u001b[0m             \u001b[39m\"\u001b[39m\u001b[39myour data has a single feature or array.reshape(1, -1) \u001b[39m\u001b[39m\"\u001b[39m\n\u001b[0;32m    883\u001b[0m             \u001b[39m\"\u001b[39m\u001b[39mif it contains a single sample.\u001b[39m\u001b[39m\"\u001b[39m\u001b[39m.\u001b[39mformat(array)\n\u001b[0;32m    884\u001b[0m         )\n\u001b[0;32m    886\u001b[0m \u001b[39mif\u001b[39;00m dtype_numeric \u001b[39mand\u001b[39;00m array\u001b[39m.\u001b[39mdtype\u001b[39m.\u001b[39mkind \u001b[39min\u001b[39;00m \u001b[39m\"\u001b[39m\u001b[39mUSV\u001b[39m\u001b[39m\"\u001b[39m:\n\u001b[0;32m    887\u001b[0m     \u001b[39mraise\u001b[39;00m \u001b[39mValueError\u001b[39;00m(\n\u001b[0;32m    888\u001b[0m         \u001b[39m\"\u001b[39m\u001b[39mdtype=\u001b[39m\u001b[39m'\u001b[39m\u001b[39mnumeric\u001b[39m\u001b[39m'\u001b[39m\u001b[39m is not compatible with arrays of bytes/strings.\u001b[39m\u001b[39m\"\u001b[39m\n\u001b[0;32m    889\u001b[0m         \u001b[39m\"\u001b[39m\u001b[39mConvert your data to numeric values explicitly instead.\u001b[39m\u001b[39m\"\u001b[39m\n\u001b[0;32m    890\u001b[0m     )\n",
      "\u001b[1;31mValueError\u001b[0m: Expected 2D array, got 1D array instead:\narray=[-2 -2  0  1  2  3  4  5  6].\nReshape your data either using array.reshape(-1, 1) if your data has a single feature or array.reshape(1, -1) if it contains a single sample."
     ]
    }
   ],
   "source": [
    "poly = PolynomialFeatures(5)\n",
    "x_trans = poly.fit_transform(x)\n",
    "model = LineaKrRegression()\n",
    "model = model.fit(x_trans, y)\n",
    "y_pred2 = model.predict(x_trans)\n",
    "plot(x, y_pred2)"
   ]
  },
  {
   "cell_type": "code",
   "execution_count": 43,
   "metadata": {},
   "outputs": [
    {
     "data": {
      "text/plain": [
       "[<matplotlib.lines.Line2D at 0x1f565b0da20>]"
      ]
     },
     "execution_count": 43,
     "metadata": {},
     "output_type": "execute_result"
    },
    {
     "data": {
      "image/png": "[encoded data removed]",
      "text/plain": [
       "<Figure size 432x288 with 1 Axes>"
      ]
     },
     "metadata": {
      "needs_background": "light"
     },
     "output_type": "display_data"
    }
   ],
   "source": [
    "number = 50\n",
    "x =np.c_[linspace(0,10, number)]\n",
    "y = sin(x)\n",
    "plot(x,y)"
   ]
  },
  {
   "cell_type": "markdown",
   "metadata": {},
   "source": [
    "numpy.c_"
   ]
  },
  {
   "cell_type": "code",
   "execution_count": 41,
   "metadata": {},
   "outputs": [
    {
     "data": {
      "text/plain": [
       "[<matplotlib.lines.Line2D at 0x1f565a3dea0>]"
      ]
     },
     "execution_count": 41,
     "metadata": {},
     "output_type": "execute_result"
    },
    {
     "data": {
      "image/png": "[encoded data removed]",
      "text/plain": [
       "<Figure size 432x288 with 1 Axes>"
      ]
     },
     "metadata": {
      "needs_background": "light"
     },
     "output_type": "display_data"
    }
   ],
   "source": [
    "import numpy as np\n",
    "y2 = sin(x.ravel()+ .4*np.random.RandomState(1).randn(number))\n",
    "plot(x, y2, 'ro')"
   ]
  },
  {
   "cell_type": "code",
   "execution_count": 44,
   "metadata": {},
   "outputs": [],
   "source": [
    "poly = PolynomialFeatures(7)\n",
    "x_trans = poly.fit_transform(x)\n",
    "model= LinearRegression()\n",
    "model= model.fit(x_trans, y2)"
   ]
  },
  {
   "cell_type": "code",
   "execution_count": 50,
   "metadata": {},
   "outputs": [
    {
     "data": {
      "text/plain": [
       "[<matplotlib.lines.Line2D at 0x1f565fd4cd0>]"
      ]
     },
     "execution_count": 50,
     "metadata": {},
     "output_type": "execute_result"
    },
    {
     "data": {
      "image/png": "[encoded data removed]",
      "text/plain": [
       "<Figure size 432x288 with 1 Axes>"
      ]
     },
     "metadata": {
      "needs_background": "light"
     },
     "output_type": "display_data"
    }
   ],
   "source": [
    "y_pred2 = model.predict(x_trans)\n",
    "plot(x, y2, 'ro')\n",
    "plot(x, y_pred2)"
   ]
  },
  {
   "cell_type": "code",
   "execution_count": 53,
   "metadata": {},
   "outputs": [
    {
     "name": "stdout",
     "output_type": "stream",
     "text": [
      "score =  0.9531751687497755\n"
     ]
    }
   ],
   "source": [
    "print('score = ', model.score(x_trans, y) )"
   ]
  },
  {
   "cell_type": "code",
   "execution_count": 59,
   "metadata": {},
   "outputs": [
    {
     "name": "stdout",
     "output_type": "stream",
     "text": [
      "[[2]\n",
      " [3]]\n",
      "[[1 4]\n",
      " [2 5]\n",
      " [3 6]]\n"
     ]
    }
   ],
   "source": [
    "x = np.c_[[2,3]]\n",
    "print(x)\n",
    "x6 = np.c_[np.array([1,2,3]), np.array([4,5,6])]\n",
    "print(x6)"
   ]
  },
  {
   "cell_type": "code",
   "execution_count": 60,
   "metadata": {},
   "outputs": [
    {
     "name": "stdout",
     "output_type": "stream",
     "text": [
      "PolynomialFeatures(degree=3)\n"
     ]
    }
   ],
   "source": [
    "poly3 = PolynomialFeatures(3)\n",
    "print(poly3)"
   ]
  },
  {
   "cell_type": "code",
   "execution_count": 61,
   "metadata": {},
   "outputs": [
    {
     "name": "stdout",
     "output_type": "stream",
     "text": [
      "[[ 1.  2.  4.  8.]\n",
      " [ 1.  3.  9. 27.]]\n"
     ]
    }
   ],
   "source": [
    "x2_trans = poly3.fit_transform(x)\n",
    "print(x2_trans)"
   ]
  },
  {
   "cell_type": "code",
   "execution_count": 65,
   "metadata": {},
   "outputs": [
    {
     "name": "stdout",
     "output_type": "stream",
     "text": [
      "[[2]\n",
      " [3]\n",
      " [4]]\n",
      "[[ 2.  4.  8.]\n",
      " [ 3.  9. 27.]\n",
      " [ 4. 16. 64.]]\n"
     ]
    }
   ],
   "source": [
    "x = np.c_[[2,3,4]]\n",
    "print(x)\n",
    "poly = PolynomialFeatures(3, include_bias=False)\n",
    "x_trans = poly.fit_transform(x)\n",
    "print(x_trans)"
   ]
  },
  {
   "cell_type": "code",
   "execution_count": 70,
   "metadata": {},
   "outputs": [
    {
     "name": "stdout",
     "output_type": "stream",
     "text": [
      "[[ 0.        ]\n",
      " [ 0.20408163]\n",
      " [ 0.40816327]\n",
      " [ 0.6122449 ]\n",
      " [ 0.81632653]\n",
      " [ 1.02040816]\n",
      " [ 1.2244898 ]\n",
      " [ 1.42857143]\n",
      " [ 1.63265306]\n",
      " [ 1.83673469]\n",
      " [ 2.04081633]\n",
      " [ 2.24489796]\n",
      " [ 2.44897959]\n",
      " [ 2.65306122]\n",
      " [ 2.85714286]\n",
      " [ 3.06122449]\n",
      " [ 3.26530612]\n",
      " [ 3.46938776]\n",
      " [ 3.67346939]\n",
      " [ 3.87755102]\n",
      " [ 4.08163265]\n",
      " [ 4.28571429]\n",
      " [ 4.48979592]\n",
      " [ 4.69387755]\n",
      " [ 4.89795918]\n",
      " [ 5.10204082]\n",
      " [ 5.30612245]\n",
      " [ 5.51020408]\n",
      " [ 5.71428571]\n",
      " [ 5.91836735]\n",
      " [ 6.12244898]\n",
      " [ 6.32653061]\n",
      " [ 6.53061224]\n",
      " [ 6.73469388]\n",
      " [ 6.93877551]\n",
      " [ 7.14285714]\n",
      " [ 7.34693878]\n",
      " [ 7.55102041]\n",
      " [ 7.75510204]\n",
      " [ 7.95918367]\n",
      " [ 8.16326531]\n",
      " [ 8.36734694]\n",
      " [ 8.57142857]\n",
      " [ 8.7755102 ]\n",
      " [ 8.97959184]\n",
      " [ 9.18367347]\n",
      " [ 9.3877551 ]\n",
      " [ 9.59183673]\n",
      " [ 9.79591837]\n",
      " [10.        ]]\n",
      "[ 0.          0.20408163  0.40816327  0.6122449   0.81632653  1.02040816\n",
      "  1.2244898   1.42857143  1.63265306  1.83673469  2.04081633  2.24489796\n",
      "  2.44897959  2.65306122  2.85714286  3.06122449  3.26530612  3.46938776\n",
      "  3.67346939  3.87755102  4.08163265  4.28571429  4.48979592  4.69387755\n",
      "  4.89795918  5.10204082  5.30612245  5.51020408  5.71428571  5.91836735\n",
      "  6.12244898  6.32653061  6.53061224  6.73469388  6.93877551  7.14285714\n",
      "  7.34693878  7.55102041  7.75510204  7.95918367  8.16326531  8.36734694\n",
      "  8.57142857  8.7755102   8.97959184  9.18367347  9.3877551   9.59183673\n",
      "  9.79591837 10.        ]\n"
     ]
    }
   ],
   "source": [
    "number = 50\n",
    "x = np.c_[np.linspace(0,10,number)]\n",
    "print(x)\n",
    "x2 = np.linspace(0, 10, number)\n",
    "print(x2)"
   ]
  },
  {
   "cell_type": "code",
   "execution_count": 73,
   "metadata": {},
   "outputs": [
    {
     "data": {
      "text/plain": [
       "array([[ 0.        ],\n",
       "       [ 0.20408163],\n",
       "       [ 0.40816327],\n",
       "       [ 0.6122449 ],\n",
       "       [ 0.81632653],\n",
       "       [ 1.02040816],\n",
       "       [ 1.2244898 ],\n",
       "       [ 1.42857143],\n",
       "       [ 1.63265306],\n",
       "       [ 1.83673469],\n",
       "       [ 2.04081633],\n",
       "       [ 2.24489796],\n",
       "       [ 2.44897959],\n",
       "       [ 2.65306122],\n",
       "       [ 2.85714286],\n",
       "       [ 3.06122449],\n",
       "       [ 3.26530612],\n",
       "       [ 3.46938776],\n",
       "       [ 3.67346939],\n",
       "       [ 3.87755102],\n",
       "       [ 4.08163265],\n",
       "       [ 4.28571429],\n",
       "       [ 4.48979592],\n",
       "       [ 4.69387755],\n",
       "       [ 4.89795918],\n",
       "       [ 5.10204082],\n",
       "       [ 5.30612245],\n",
       "       [ 5.51020408],\n",
       "       [ 5.71428571],\n",
       "       [ 5.91836735],\n",
       "       [ 6.12244898],\n",
       "       [ 6.32653061],\n",
       "       [ 6.53061224],\n",
       "       [ 6.73469388],\n",
       "       [ 6.93877551],\n",
       "       [ 7.14285714],\n",
       "       [ 7.34693878],\n",
       "       [ 7.55102041],\n",
       "       [ 7.75510204],\n",
       "       [ 7.95918367],\n",
       "       [ 8.16326531],\n",
       "       [ 8.36734694],\n",
       "       [ 8.57142857],\n",
       "       [ 8.7755102 ],\n",
       "       [ 8.97959184],\n",
       "       [ 9.18367347],\n",
       "       [ 9.3877551 ],\n",
       "       [ 9.59183673],\n",
       "       [ 9.79591837],\n",
       "       [10.        ]])"
      ]
     },
     "execution_count": 73,
     "metadata": {},
     "output_type": "execute_result"
    }
   ],
   "source": [
    "x"
   ]
  },
  {
   "cell_type": "code",
   "execution_count": 74,
   "metadata": {},
   "outputs": [
    {
     "name": "stdout",
     "output_type": "stream",
     "text": [
      "[ 0.          0.20408163  0.40816327  0.6122449   0.81632653  1.02040816\n",
      "  1.2244898   1.42857143  1.63265306  1.83673469  2.04081633  2.24489796\n",
      "  2.44897959  2.65306122  2.85714286  3.06122449  3.26530612  3.46938776\n",
      "  3.67346939  3.87755102  4.08163265  4.28571429  4.48979592  4.69387755\n",
      "  4.89795918  5.10204082  5.30612245  5.51020408  5.71428571  5.91836735\n",
      "  6.12244898  6.32653061  6.53061224  6.73469388  6.93877551  7.14285714\n",
      "  7.34693878  7.55102041  7.75510204  7.95918367  8.16326531  8.36734694\n",
      "  8.57142857  8.7755102   8.97959184  9.18367347  9.3877551   9.59183673\n",
      "  9.79591837 10.        ]\n"
     ]
    }
   ],
   "source": [
    "print(x.ravel())"
   ]
  },
  {
   "cell_type": "code",
   "execution_count": 75,
   "metadata": {},
   "outputs": [
    {
     "name": "stdout",
     "output_type": "stream",
     "text": [
      "[ 0.16243454  0.1414923   0.34410697  0.46740918  0.81517555  0.6221677\n",
      "  1.11511396  0.91378239  1.02999139  0.93990927  1.03777002  0.57525395\n",
      "  0.6063086   0.43092418  0.39400634 -0.02970745 -0.14064096 -0.40974216\n",
      " -0.50293033 -0.61301627 -0.91764361 -0.79587457 -0.88516921 -0.94957923\n",
      " -0.89274561 -0.99341416 -0.84114676 -0.79184934 -0.5654941  -0.30374369\n",
      " -0.22921116  0.00365638  0.1761928   0.35180286  0.54250258  0.75636196\n",
      "  0.76245326  0.97789877  1.16109561  1.06867578  0.93336829  0.78233381\n",
      "  0.6787709   0.77384878  0.43570665  0.17507575  0.05610595  0.04374272\n",
      " -0.35066253 -0.4823008 ]\n"
     ]
    }
   ],
   "source": [
    "y = np.sin(x.ravel()) + 0.1*np.random.RandomState(1).randn(number)\n",
    "print(y)"
   ]
  },
  {
   "cell_type": "code",
   "execution_count": 77,
   "metadata": {},
   "outputs": [
    {
     "data": {
      "text/html": [
       "<style>#sk-container-id-1 {color: black;background-color: white;}#sk-container-id-1 pre{padding: 0;}#sk-container-id-1 div.sk-toggleable {background-color: white;}#sk-container-id-1 label.sk-toggleable__label {cursor: pointer;display: block;width: 100%;margin-bottom: 0;padding: 0.3em;box-sizing: border-box;text-align: center;}#sk-container-id-1 label.sk-toggleable__label-arrow:before {content: \"▸\";float: left;margin-right: 0.25em;color: #696969;}#sk-container-id-1 label.sk-toggleable__label-arrow:hover:before {color: black;}#sk-container-id-1 div.sk-estimator:hover label.sk-toggleable__label-arrow:before {color: black;}#sk-container-id-1 div.sk-toggleable__content {max-height: 0;max-width: 0;overflow: hidden;text-align: left;background-color: #f0f8ff;}#sk-container-id-1 div.sk-toggleable__content pre {margin: 0.2em;color: black;border-radius: 0.25em;background-color: #f0f8ff;}#sk-container-id-1 input.sk-toggleable__control:checked~div.sk-toggleable__content {max-height: 200px;max-width: 100%;overflow: auto;}#sk-container-id-1 input.sk-toggleable__control:checked~label.sk-toggleable__label-arrow:before {content: \"▾\";}#sk-container-id-1 div.sk-estimator input.sk-toggleable__control:checked~label.sk-toggleable__label {background-color: #d4ebff;}#sk-container-id-1 div.sk-label input.sk-toggleable__control:checked~label.sk-toggleable__label {background-color: #d4ebff;}#sk-container-id-1 input.sk-hidden--visually {border: 0;clip: rect(1px 1px 1px 1px);clip: rect(1px, 1px, 1px, 1px);height: 1px;margin: -1px;overflow: hidden;padding: 0;position: absolute;width: 1px;}#sk-container-id-1 div.sk-estimator {font-family: monospace;background-color: #f0f8ff;border: 1px dotted black;border-radius: 0.25em;box-sizing: border-box;margin-bottom: 0.5em;}#sk-container-id-1 div.sk-estimator:hover {background-color: #d4ebff;}#sk-container-id-1 div.sk-parallel-item::after {content: \"\";width: 100%;border-bottom: 1px solid gray;flex-grow: 1;}#sk-container-id-1 div.sk-label:hover label.sk-toggleable__label {background-color: #d4ebff;}#sk-container-id-1 div.sk-serial::before {content: \"\";position: absolute;border-left: 1px solid gray;box-sizing: border-box;top: 0;bottom: 0;left: 50%;z-index: 0;}#sk-container-id-1 div.sk-serial {display: flex;flex-direction: column;align-items: center;background-color: white;padding-right: 0.2em;padding-left: 0.2em;position: relative;}#sk-container-id-1 div.sk-item {position: relative;z-index: 1;}#sk-container-id-1 div.sk-parallel {display: flex;align-items: stretch;justify-content: center;background-color: white;position: relative;}#sk-container-id-1 div.sk-item::before, #sk-container-id-1 div.sk-parallel-item::before {content: \"\";position: absolute;border-left: 1px solid gray;box-sizing: border-box;top: 0;bottom: 0;left: 50%;z-index: -1;}#sk-container-id-1 div.sk-parallel-item {display: flex;flex-direction: column;z-index: 1;position: relative;background-color: white;}#sk-container-id-1 div.sk-parallel-item:first-child::after {align-self: flex-end;width: 50%;}#sk-container-id-1 div.sk-parallel-item:last-child::after {align-self: flex-start;width: 50%;}#sk-container-id-1 div.sk-parallel-item:only-child::after {width: 0;}#sk-container-id-1 div.sk-dashed-wrapped {border: 1px dashed gray;margin: 0 0.4em 0.5em 0.4em;box-sizing: border-box;padding-bottom: 0.4em;background-color: white;}#sk-container-id-1 div.sk-label label {font-family: monospace;font-weight: bold;display: inline-block;line-height: 1.2em;}#sk-container-id-1 div.sk-label-container {text-align: center;}#sk-container-id-1 div.sk-container {/* jupyter's `normalize.less` sets `[hidden] { display: none; }` but bootstrap.min.css set `[hidden] { display: none !important; }` so we also need the `!important` here to be able to override the default hidden behavior on the sphinx rendered scikit-learn.org. See: https://github.com/scikit-learn/scikit-learn/issues/21755 */display: inline-block !important;position: relative;}#sk-container-id-1 div.sk-text-repr-fallback {display: none;}</style><div id=\"sk-container-id-1\" class=\"sk-top-container\"><div class=\"sk-text-repr-fallback\"><pre>LinearRegression()</pre><b>In a Jupyter environment, please rerun this cell to show the HTML representation or trust the notebook. <br />On GitHub, the HTML representation is unable to render, please try loading this page with nbviewer.org.</b></div><div class=\"sk-container\" hidden><div class=\"sk-item\"><div class=\"sk-estimator sk-toggleable\"><input class=\"sk-toggleable__control sk-hidden--visually\" id=\"sk-estimator-id-1\" type=\"checkbox\" checked><label for=\"sk-estimator-id-1\" class=\"sk-toggleable__label sk-toggleable__label-arrow\">LinearRegression</label><div class=\"sk-toggleable__content\"><pre>LinearRegression()</pre></div></div></div></div></div>"
      ],
      "text/plain": [
       "LinearRegression()"
      ]
     },
     "execution_count": 77,
     "metadata": {},
     "output_type": "execute_result"
    }
   ],
   "source": [
    "# 1. nonlinear model with base polynomial of degree 7 \n",
    "polynomial = PolynomialFeatures(7)\n",
    "x_transform = polynomial.fit_transform(x)\n",
    "model = LinearRegression()\n",
    "model = model.fit(x_transform, y)\n",
    "model"
   ]
  },
  {
   "cell_type": "code",
   "execution_count": 78,
   "metadata": {},
   "outputs": [
    {
     "data": {
      "text/plain": [
       "array([ 0.12373227,  0.20297565,  0.34325787,  0.50901342,  0.67303296,\n",
       "        0.81537591,  0.92236009,  0.985626  ,  1.0012737 ,  0.96906975,\n",
       "        0.89172217,  0.77422107,  0.62324261,  0.4466142 ,  0.25283845,\n",
       "        0.05067387, -0.15123023, -0.34464667, -0.52203357, -0.67674996,\n",
       "       -0.80322611, -0.89709086, -0.95525819, -0.97597532, -0.95883462,\n",
       "       -0.90475149, -0.81591067, -0.69568305, -0.54851534, -0.37979488,\n",
       "       -0.19569185, -0.00298102,  0.19115445,  0.37933511,  0.5542109 ,\n",
       "        0.70869806,  0.83622509,  0.93098549,  0.98819497,  1.00435089,\n",
       "        0.9774917 ,  0.90745401,  0.79612515,  0.64768888,  0.46886198,\n",
       "        0.26911952,  0.06090642, -0.14016677, -0.31514637, -0.44157843])"
      ]
     },
     "execution_count": 78,
     "metadata": {},
     "output_type": "execute_result"
    }
   ],
   "source": [
    "y_prediction = model.predict(x_transform)\n",
    "y_prediction"
   ]
  },
  {
   "cell_type": "code",
   "execution_count": 81,
   "metadata": {},
   "outputs": [
    {
     "data": {
      "text/plain": [
       "[<matplotlib.lines.Line2D at 0x1f56628d420>]"
      ]
     },
     "execution_count": 81,
     "metadata": {},
     "output_type": "execute_result"
    },
    {
     "data": {
      "image/png": "[encoded data removed]",
      "text/plain": [
       "<Figure size 432x288 with 1 Axes>"
      ]
     },
     "metadata": {
      "needs_background": "light"
     },
     "output_type": "display_data"
    }
   ],
   "source": [
    "scatter(x,y)\n",
    "plot(x, y_prediction)"
   ]
  },
  {
   "cell_type": "code",
   "execution_count": 82,
   "metadata": {},
   "outputs": [
    {
     "name": "stdout",
     "output_type": "stream",
     "text": [
      "score = 0.9815660620865445\n"
     ]
    }
   ],
   "source": [
    "print(f\"score = {model.score(x_transform,y)}\")"
   ]
  },
  {
   "cell_type": "code",
   "execution_count": 85,
   "metadata": {},
   "outputs": [
    {
     "data": {
      "text/plain": [
       "array([[ 0.        ],\n",
       "       [ 0.01151151],\n",
       "       [ 0.02302302],\n",
       "       [ 0.03453453],\n",
       "       [ 0.04604605],\n",
       "       [ 0.05755756],\n",
       "       [ 0.06906907],\n",
       "       [ 0.08058058],\n",
       "       [ 0.09209209],\n",
       "       [ 0.1036036 ],\n",
       "       [ 0.11511512],\n",
       "       [ 0.12662663],\n",
       "       [ 0.13813814],\n",
       "       [ 0.14964965],\n",
       "       [ 0.16116116],\n",
       "       [ 0.17267267],\n",
       "       [ 0.18418418],\n",
       "       [ 0.1956957 ],\n",
       "       [ 0.20720721],\n",
       "       [ 0.21871872],\n",
       "       [ 0.23023023],\n",
       "       [ 0.24174174],\n",
       "       [ 0.25325325],\n",
       "       [ 0.26476476],\n",
       "       [ 0.27627628],\n",
       "       [ 0.28778779],\n",
       "       [ 0.2992993 ],\n",
       "       [ 0.31081081],\n",
       "       [ 0.32232232],\n",
       "       [ 0.33383383],\n",
       "       [ 0.34534535],\n",
       "       [ 0.35685686],\n",
       "       [ 0.36836837],\n",
       "       [ 0.37987988],\n",
       "       [ 0.39139139],\n",
       "       [ 0.4029029 ],\n",
       "       [ 0.41441441],\n",
       "       [ 0.42592593],\n",
       "       [ 0.43743744],\n",
       "       [ 0.44894895],\n",
       "       [ 0.46046046],\n",
       "       [ 0.47197197],\n",
       "       [ 0.48348348],\n",
       "       [ 0.49499499],\n",
       "       [ 0.50650651],\n",
       "       [ 0.51801802],\n",
       "       [ 0.52952953],\n",
       "       [ 0.54104104],\n",
       "       [ 0.55255255],\n",
       "       [ 0.56406406],\n",
       "       [ 0.57557558],\n",
       "       [ 0.58708709],\n",
       "       [ 0.5985986 ],\n",
       "       [ 0.61011011],\n",
       "       [ 0.62162162],\n",
       "       [ 0.63313313],\n",
       "       [ 0.64464464],\n",
       "       [ 0.65615616],\n",
       "       [ 0.66766767],\n",
       "       [ 0.67917918],\n",
       "       [ 0.69069069],\n",
       "       [ 0.7022022 ],\n",
       "       [ 0.71371371],\n",
       "       [ 0.72522523],\n",
       "       [ 0.73673674],\n",
       "       [ 0.74824825],\n",
       "       [ 0.75975976],\n",
       "       [ 0.77127127],\n",
       "       [ 0.78278278],\n",
       "       [ 0.79429429],\n",
       "       [ 0.80580581],\n",
       "       [ 0.81731732],\n",
       "       [ 0.82882883],\n",
       "       [ 0.84034034],\n",
       "       [ 0.85185185],\n",
       "       [ 0.86336336],\n",
       "       [ 0.87487487],\n",
       "       [ 0.88638639],\n",
       "       [ 0.8978979 ],\n",
       "       [ 0.90940941],\n",
       "       [ 0.92092092],\n",
       "       [ 0.93243243],\n",
       "       [ 0.94394394],\n",
       "       [ 0.95545546],\n",
       "       [ 0.96696697],\n",
       "       [ 0.97847848],\n",
       "       [ 0.98998999],\n",
       "       [ 1.0015015 ],\n",
       "       [ 1.01301301],\n",
       "       [ 1.02452452],\n",
       "       [ 1.03603604],\n",
       "       [ 1.04754755],\n",
       "       [ 1.05905906],\n",
       "       [ 1.07057057],\n",
       "       [ 1.08208208],\n",
       "       [ 1.09359359],\n",
       "       [ 1.10510511],\n",
       "       [ 1.11661662],\n",
       "       [ 1.12812813],\n",
       "       [ 1.13963964],\n",
       "       [ 1.15115115],\n",
       "       [ 1.16266266],\n",
       "       [ 1.17417417],\n",
       "       [ 1.18568569],\n",
       "       [ 1.1971972 ],\n",
       "       [ 1.20870871],\n",
       "       [ 1.22022022],\n",
       "       [ 1.23173173],\n",
       "       [ 1.24324324],\n",
       "       [ 1.25475475],\n",
       "       [ 1.26626627],\n",
       "       [ 1.27777778],\n",
       "       [ 1.28928929],\n",
       "       [ 1.3008008 ],\n",
       "       [ 1.31231231],\n",
       "       [ 1.32382382],\n",
       "       [ 1.33533534],\n",
       "       [ 1.34684685],\n",
       "       [ 1.35835836],\n",
       "       [ 1.36986987],\n",
       "       [ 1.38138138],\n",
       "       [ 1.39289289],\n",
       "       [ 1.4044044 ],\n",
       "       [ 1.41591592],\n",
       "       [ 1.42742743],\n",
       "       [ 1.43893894],\n",
       "       [ 1.45045045],\n",
       "       [ 1.46196196],\n",
       "       [ 1.47347347],\n",
       "       [ 1.48498498],\n",
       "       [ 1.4964965 ],\n",
       "       [ 1.50800801],\n",
       "       [ 1.51951952],\n",
       "       [ 1.53103103],\n",
       "       [ 1.54254254],\n",
       "       [ 1.55405405],\n",
       "       [ 1.56556557],\n",
       "       [ 1.57707708],\n",
       "       [ 1.58858859],\n",
       "       [ 1.6001001 ],\n",
       "       [ 1.61161161],\n",
       "       [ 1.62312312],\n",
       "       [ 1.63463463],\n",
       "       [ 1.64614615],\n",
       "       [ 1.65765766],\n",
       "       [ 1.66916917],\n",
       "       [ 1.68068068],\n",
       "       [ 1.69219219],\n",
       "       [ 1.7037037 ],\n",
       "       [ 1.71521522],\n",
       "       [ 1.72672673],\n",
       "       [ 1.73823824],\n",
       "       [ 1.74974975],\n",
       "       [ 1.76126126],\n",
       "       [ 1.77277277],\n",
       "       [ 1.78428428],\n",
       "       [ 1.7957958 ],\n",
       "       [ 1.80730731],\n",
       "       [ 1.81881882],\n",
       "       [ 1.83033033],\n",
       "       [ 1.84184184],\n",
       "       [ 1.85335335],\n",
       "       [ 1.86486486],\n",
       "       [ 1.87637638],\n",
       "       [ 1.88788789],\n",
       "       [ 1.8993994 ],\n",
       "       [ 1.91091091],\n",
       "       [ 1.92242242],\n",
       "       [ 1.93393393],\n",
       "       [ 1.94544545],\n",
       "       [ 1.95695696],\n",
       "       [ 1.96846847],\n",
       "       [ 1.97997998],\n",
       "       [ 1.99149149],\n",
       "       [ 2.003003  ],\n",
       "       [ 2.01451451],\n",
       "       [ 2.02602603],\n",
       "       [ 2.03753754],\n",
       "       [ 2.04904905],\n",
       "       [ 2.06056056],\n",
       "       [ 2.07207207],\n",
       "       [ 2.08358358],\n",
       "       [ 2.0950951 ],\n",
       "       [ 2.10660661],\n",
       "       [ 2.11811812],\n",
       "       [ 2.12962963],\n",
       "       [ 2.14114114],\n",
       "       [ 2.15265265],\n",
       "       [ 2.16416416],\n",
       "       [ 2.17567568],\n",
       "       [ 2.18718719],\n",
       "       [ 2.1986987 ],\n",
       "       [ 2.21021021],\n",
       "       [ 2.22172172],\n",
       "       [ 2.23323323],\n",
       "       [ 2.24474474],\n",
       "       [ 2.25625626],\n",
       "       [ 2.26776777],\n",
       "       [ 2.27927928],\n",
       "       [ 2.29079079],\n",
       "       [ 2.3023023 ],\n",
       "       [ 2.31381381],\n",
       "       [ 2.32532533],\n",
       "       [ 2.33683684],\n",
       "       [ 2.34834835],\n",
       "       [ 2.35985986],\n",
       "       [ 2.37137137],\n",
       "       [ 2.38288288],\n",
       "       [ 2.39439439],\n",
       "       [ 2.40590591],\n",
       "       [ 2.41741742],\n",
       "       [ 2.42892893],\n",
       "       [ 2.44044044],\n",
       "       [ 2.45195195],\n",
       "       [ 2.46346346],\n",
       "       [ 2.47497497],\n",
       "       [ 2.48648649],\n",
       "       [ 2.497998  ],\n",
       "       [ 2.50950951],\n",
       "       [ 2.52102102],\n",
       "       [ 2.53253253],\n",
       "       [ 2.54404404],\n",
       "       [ 2.55555556],\n",
       "       [ 2.56706707],\n",
       "       [ 2.57857858],\n",
       "       [ 2.59009009],\n",
       "       [ 2.6016016 ],\n",
       "       [ 2.61311311],\n",
       "       [ 2.62462462],\n",
       "       [ 2.63613614],\n",
       "       [ 2.64764765],\n",
       "       [ 2.65915916],\n",
       "       [ 2.67067067],\n",
       "       [ 2.68218218],\n",
       "       [ 2.69369369],\n",
       "       [ 2.70520521],\n",
       "       [ 2.71671672],\n",
       "       [ 2.72822823],\n",
       "       [ 2.73973974],\n",
       "       [ 2.75125125],\n",
       "       [ 2.76276276],\n",
       "       [ 2.77427427],\n",
       "       [ 2.78578579],\n",
       "       [ 2.7972973 ],\n",
       "       [ 2.80880881],\n",
       "       [ 2.82032032],\n",
       "       [ 2.83183183],\n",
       "       [ 2.84334334],\n",
       "       [ 2.85485485],\n",
       "       [ 2.86636637],\n",
       "       [ 2.87787788],\n",
       "       [ 2.88938939],\n",
       "       [ 2.9009009 ],\n",
       "       [ 2.91241241],\n",
       "       [ 2.92392392],\n",
       "       [ 2.93543544],\n",
       "       [ 2.94694695],\n",
       "       [ 2.95845846],\n",
       "       [ 2.96996997],\n",
       "       [ 2.98148148],\n",
       "       [ 2.99299299],\n",
       "       [ 3.0045045 ],\n",
       "       [ 3.01601602],\n",
       "       [ 3.02752753],\n",
       "       [ 3.03903904],\n",
       "       [ 3.05055055],\n",
       "       [ 3.06206206],\n",
       "       [ 3.07357357],\n",
       "       [ 3.08508509],\n",
       "       [ 3.0965966 ],\n",
       "       [ 3.10810811],\n",
       "       [ 3.11961962],\n",
       "       [ 3.13113113],\n",
       "       [ 3.14264264],\n",
       "       [ 3.15415415],\n",
       "       [ 3.16566567],\n",
       "       [ 3.17717718],\n",
       "       [ 3.18868869],\n",
       "       [ 3.2002002 ],\n",
       "       [ 3.21171171],\n",
       "       [ 3.22322322],\n",
       "       [ 3.23473473],\n",
       "       [ 3.24624625],\n",
       "       [ 3.25775776],\n",
       "       [ 3.26926927],\n",
       "       [ 3.28078078],\n",
       "       [ 3.29229229],\n",
       "       [ 3.3038038 ],\n",
       "       [ 3.31531532],\n",
       "       [ 3.32682683],\n",
       "       [ 3.33833834],\n",
       "       [ 3.34984985],\n",
       "       [ 3.36136136],\n",
       "       [ 3.37287287],\n",
       "       [ 3.38438438],\n",
       "       [ 3.3958959 ],\n",
       "       [ 3.40740741],\n",
       "       [ 3.41891892],\n",
       "       [ 3.43043043],\n",
       "       [ 3.44194194],\n",
       "       [ 3.45345345],\n",
       "       [ 3.46496496],\n",
       "       [ 3.47647648],\n",
       "       [ 3.48798799],\n",
       "       [ 3.4994995 ],\n",
       "       [ 3.51101101],\n",
       "       [ 3.52252252],\n",
       "       [ 3.53403403],\n",
       "       [ 3.54554555],\n",
       "       [ 3.55705706],\n",
       "       [ 3.56856857],\n",
       "       [ 3.58008008],\n",
       "       [ 3.59159159],\n",
       "       [ 3.6031031 ],\n",
       "       [ 3.61461461],\n",
       "       [ 3.62612613],\n",
       "       [ 3.63763764],\n",
       "       [ 3.64914915],\n",
       "       [ 3.66066066],\n",
       "       [ 3.67217217],\n",
       "       [ 3.68368368],\n",
       "       [ 3.6951952 ],\n",
       "       [ 3.70670671],\n",
       "       [ 3.71821822],\n",
       "       [ 3.72972973],\n",
       "       [ 3.74124124],\n",
       "       [ 3.75275275],\n",
       "       [ 3.76426426],\n",
       "       [ 3.77577578],\n",
       "       [ 3.78728729],\n",
       "       [ 3.7987988 ],\n",
       "       [ 3.81031031],\n",
       "       [ 3.82182182],\n",
       "       [ 3.83333333],\n",
       "       [ 3.84484484],\n",
       "       [ 3.85635636],\n",
       "       [ 3.86786787],\n",
       "       [ 3.87937938],\n",
       "       [ 3.89089089],\n",
       "       [ 3.9024024 ],\n",
       "       [ 3.91391391],\n",
       "       [ 3.92542543],\n",
       "       [ 3.93693694],\n",
       "       [ 3.94844845],\n",
       "       [ 3.95995996],\n",
       "       [ 3.97147147],\n",
       "       [ 3.98298298],\n",
       "       [ 3.99449449],\n",
       "       [ 4.00600601],\n",
       "       [ 4.01751752],\n",
       "       [ 4.02902903],\n",
       "       [ 4.04054054],\n",
       "       [ 4.05205205],\n",
       "       [ 4.06356356],\n",
       "       [ 4.07507508],\n",
       "       [ 4.08658659],\n",
       "       [ 4.0980981 ],\n",
       "       [ 4.10960961],\n",
       "       [ 4.12112112],\n",
       "       [ 4.13263263],\n",
       "       [ 4.14414414],\n",
       "       [ 4.15565566],\n",
       "       [ 4.16716717],\n",
       "       [ 4.17867868],\n",
       "       [ 4.19019019],\n",
       "       [ 4.2017017 ],\n",
       "       [ 4.21321321],\n",
       "       [ 4.22472472],\n",
       "       [ 4.23623624],\n",
       "       [ 4.24774775],\n",
       "       [ 4.25925926],\n",
       "       [ 4.27077077],\n",
       "       [ 4.28228228],\n",
       "       [ 4.29379379],\n",
       "       [ 4.30530531],\n",
       "       [ 4.31681682],\n",
       "       [ 4.32832833],\n",
       "       [ 4.33983984],\n",
       "       [ 4.35135135],\n",
       "       [ 4.36286286],\n",
       "       [ 4.37437437],\n",
       "       [ 4.38588589],\n",
       "       [ 4.3973974 ],\n",
       "       [ 4.40890891],\n",
       "       [ 4.42042042],\n",
       "       [ 4.43193193],\n",
       "       [ 4.44344344],\n",
       "       [ 4.45495495],\n",
       "       [ 4.46646647],\n",
       "       [ 4.47797798],\n",
       "       [ 4.48948949],\n",
       "       [ 4.501001  ],\n",
       "       [ 4.51251251],\n",
       "       [ 4.52402402],\n",
       "       [ 4.53553554],\n",
       "       [ 4.54704705],\n",
       "       [ 4.55855856],\n",
       "       [ 4.57007007],\n",
       "       [ 4.58158158],\n",
       "       [ 4.59309309],\n",
       "       [ 4.6046046 ],\n",
       "       [ 4.61611612],\n",
       "       [ 4.62762763],\n",
       "       [ 4.63913914],\n",
       "       [ 4.65065065],\n",
       "       [ 4.66216216],\n",
       "       [ 4.67367367],\n",
       "       [ 4.68518519],\n",
       "       [ 4.6966967 ],\n",
       "       [ 4.70820821],\n",
       "       [ 4.71971972],\n",
       "       [ 4.73123123],\n",
       "       [ 4.74274274],\n",
       "       [ 4.75425425],\n",
       "       [ 4.76576577],\n",
       "       [ 4.77727728],\n",
       "       [ 4.78878879],\n",
       "       [ 4.8003003 ],\n",
       "       [ 4.81181181],\n",
       "       [ 4.82332332],\n",
       "       [ 4.83483483],\n",
       "       [ 4.84634635],\n",
       "       [ 4.85785786],\n",
       "       [ 4.86936937],\n",
       "       [ 4.88088088],\n",
       "       [ 4.89239239],\n",
       "       [ 4.9039039 ],\n",
       "       [ 4.91541542],\n",
       "       [ 4.92692693],\n",
       "       [ 4.93843844],\n",
       "       [ 4.94994995],\n",
       "       [ 4.96146146],\n",
       "       [ 4.97297297],\n",
       "       [ 4.98448448],\n",
       "       [ 4.995996  ],\n",
       "       [ 5.00750751],\n",
       "       [ 5.01901902],\n",
       "       [ 5.03053053],\n",
       "       [ 5.04204204],\n",
       "       [ 5.05355355],\n",
       "       [ 5.06506507],\n",
       "       [ 5.07657658],\n",
       "       [ 5.08808809],\n",
       "       [ 5.0995996 ],\n",
       "       [ 5.11111111],\n",
       "       [ 5.12262262],\n",
       "       [ 5.13413413],\n",
       "       [ 5.14564565],\n",
       "       [ 5.15715716],\n",
       "       [ 5.16866867],\n",
       "       [ 5.18018018],\n",
       "       [ 5.19169169],\n",
       "       [ 5.2032032 ],\n",
       "       [ 5.21471471],\n",
       "       [ 5.22622623],\n",
       "       [ 5.23773774],\n",
       "       [ 5.24924925],\n",
       "       [ 5.26076076],\n",
       "       [ 5.27227227],\n",
       "       [ 5.28378378],\n",
       "       [ 5.2952953 ],\n",
       "       [ 5.30680681],\n",
       "       [ 5.31831832],\n",
       "       [ 5.32982983],\n",
       "       [ 5.34134134],\n",
       "       [ 5.35285285],\n",
       "       [ 5.36436436],\n",
       "       [ 5.37587588],\n",
       "       [ 5.38738739],\n",
       "       [ 5.3988989 ],\n",
       "       [ 5.41041041],\n",
       "       [ 5.42192192],\n",
       "       [ 5.43343343],\n",
       "       [ 5.44494494],\n",
       "       [ 5.45645646],\n",
       "       [ 5.46796797],\n",
       "       [ 5.47947948],\n",
       "       [ 5.49099099],\n",
       "       [ 5.5025025 ],\n",
       "       [ 5.51401401],\n",
       "       [ 5.52552553],\n",
       "       [ 5.53703704],\n",
       "       [ 5.54854855],\n",
       "       [ 5.56006006],\n",
       "       [ 5.57157157],\n",
       "       [ 5.58308308],\n",
       "       [ 5.59459459],\n",
       "       [ 5.60610611],\n",
       "       [ 5.61761762],\n",
       "       [ 5.62912913],\n",
       "       [ 5.64064064],\n",
       "       [ 5.65215215],\n",
       "       [ 5.66366366],\n",
       "       [ 5.67517518],\n",
       "       [ 5.68668669],\n",
       "       [ 5.6981982 ],\n",
       "       [ 5.70970971],\n",
       "       [ 5.72122122],\n",
       "       [ 5.73273273],\n",
       "       [ 5.74424424],\n",
       "       [ 5.75575576],\n",
       "       [ 5.76726727],\n",
       "       [ 5.77877878],\n",
       "       [ 5.79029029],\n",
       "       [ 5.8018018 ],\n",
       "       [ 5.81331331],\n",
       "       [ 5.82482482],\n",
       "       [ 5.83633634],\n",
       "       [ 5.84784785],\n",
       "       [ 5.85935936],\n",
       "       [ 5.87087087],\n",
       "       [ 5.88238238],\n",
       "       [ 5.89389389],\n",
       "       [ 5.90540541],\n",
       "       [ 5.91691692],\n",
       "       [ 5.92842843],\n",
       "       [ 5.93993994],\n",
       "       [ 5.95145145],\n",
       "       [ 5.96296296],\n",
       "       [ 5.97447447],\n",
       "       [ 5.98598599],\n",
       "       [ 5.9974975 ],\n",
       "       [ 6.00900901],\n",
       "       [ 6.02052052],\n",
       "       [ 6.03203203],\n",
       "       [ 6.04354354],\n",
       "       [ 6.05505506],\n",
       "       [ 6.06656657],\n",
       "       [ 6.07807808],\n",
       "       [ 6.08958959],\n",
       "       [ 6.1011011 ],\n",
       "       [ 6.11261261],\n",
       "       [ 6.12412412],\n",
       "       [ 6.13563564],\n",
       "       [ 6.14714715],\n",
       "       [ 6.15865866],\n",
       "       [ 6.17017017],\n",
       "       [ 6.18168168],\n",
       "       [ 6.19319319],\n",
       "       [ 6.2047047 ],\n",
       "       [ 6.21621622],\n",
       "       [ 6.22772773],\n",
       "       [ 6.23923924],\n",
       "       [ 6.25075075],\n",
       "       [ 6.26226226],\n",
       "       [ 6.27377377],\n",
       "       [ 6.28528529],\n",
       "       [ 6.2967968 ],\n",
       "       [ 6.30830831],\n",
       "       [ 6.31981982],\n",
       "       [ 6.33133133],\n",
       "       [ 6.34284284],\n",
       "       [ 6.35435435],\n",
       "       [ 6.36586587],\n",
       "       [ 6.37737738],\n",
       "       [ 6.38888889],\n",
       "       [ 6.4004004 ],\n",
       "       [ 6.41191191],\n",
       "       [ 6.42342342],\n",
       "       [ 6.43493493],\n",
       "       [ 6.44644645],\n",
       "       [ 6.45795796],\n",
       "       [ 6.46946947],\n",
       "       [ 6.48098098],\n",
       "       [ 6.49249249],\n",
       "       [ 6.504004  ],\n",
       "       [ 6.51551552],\n",
       "       [ 6.52702703],\n",
       "       [ 6.53853854],\n",
       "       [ 6.55005005],\n",
       "       [ 6.56156156],\n",
       "       [ 6.57307307],\n",
       "       [ 6.58458458],\n",
       "       [ 6.5960961 ],\n",
       "       [ 6.60760761],\n",
       "       [ 6.61911912],\n",
       "       [ 6.63063063],\n",
       "       [ 6.64214214],\n",
       "       [ 6.65365365],\n",
       "       [ 6.66516517],\n",
       "       [ 6.67667668],\n",
       "       [ 6.68818819],\n",
       "       [ 6.6996997 ],\n",
       "       [ 6.71121121],\n",
       "       [ 6.72272272],\n",
       "       [ 6.73423423],\n",
       "       [ 6.74574575],\n",
       "       [ 6.75725726],\n",
       "       [ 6.76876877],\n",
       "       [ 6.78028028],\n",
       "       [ 6.79179179],\n",
       "       [ 6.8033033 ],\n",
       "       [ 6.81481481],\n",
       "       [ 6.82632633],\n",
       "       [ 6.83783784],\n",
       "       [ 6.84934935],\n",
       "       [ 6.86086086],\n",
       "       [ 6.87237237],\n",
       "       [ 6.88388388],\n",
       "       [ 6.8953954 ],\n",
       "       [ 6.90690691],\n",
       "       [ 6.91841842],\n",
       "       [ 6.92992993],\n",
       "       [ 6.94144144],\n",
       "       [ 6.95295295],\n",
       "       [ 6.96446446],\n",
       "       [ 6.97597598],\n",
       "       [ 6.98748749],\n",
       "       [ 6.998999  ],\n",
       "       [ 7.01051051],\n",
       "       [ 7.02202202],\n",
       "       [ 7.03353353],\n",
       "       [ 7.04504505],\n",
       "       [ 7.05655656],\n",
       "       [ 7.06806807],\n",
       "       [ 7.07957958],\n",
       "       [ 7.09109109],\n",
       "       [ 7.1026026 ],\n",
       "       [ 7.11411411],\n",
       "       [ 7.12562563],\n",
       "       [ 7.13713714],\n",
       "       [ 7.14864865],\n",
       "       [ 7.16016016],\n",
       "       [ 7.17167167],\n",
       "       [ 7.18318318],\n",
       "       [ 7.19469469],\n",
       "       [ 7.20620621],\n",
       "       [ 7.21771772],\n",
       "       [ 7.22922923],\n",
       "       [ 7.24074074],\n",
       "       [ 7.25225225],\n",
       "       [ 7.26376376],\n",
       "       [ 7.27527528],\n",
       "       [ 7.28678679],\n",
       "       [ 7.2982983 ],\n",
       "       [ 7.30980981],\n",
       "       [ 7.32132132],\n",
       "       [ 7.33283283],\n",
       "       [ 7.34434434],\n",
       "       [ 7.35585586],\n",
       "       [ 7.36736737],\n",
       "       [ 7.37887888],\n",
       "       [ 7.39039039],\n",
       "       [ 7.4019019 ],\n",
       "       [ 7.41341341],\n",
       "       [ 7.42492492],\n",
       "       [ 7.43643644],\n",
       "       [ 7.44794795],\n",
       "       [ 7.45945946],\n",
       "       [ 7.47097097],\n",
       "       [ 7.48248248],\n",
       "       [ 7.49399399],\n",
       "       [ 7.50550551],\n",
       "       [ 7.51701702],\n",
       "       [ 7.52852853],\n",
       "       [ 7.54004004],\n",
       "       [ 7.55155155],\n",
       "       [ 7.56306306],\n",
       "       [ 7.57457457],\n",
       "       [ 7.58608609],\n",
       "       [ 7.5975976 ],\n",
       "       [ 7.60910911],\n",
       "       [ 7.62062062],\n",
       "       [ 7.63213213],\n",
       "       [ 7.64364364],\n",
       "       [ 7.65515516],\n",
       "       [ 7.66666667],\n",
       "       [ 7.67817818],\n",
       "       [ 7.68968969],\n",
       "       [ 7.7012012 ],\n",
       "       [ 7.71271271],\n",
       "       [ 7.72422422],\n",
       "       [ 7.73573574],\n",
       "       [ 7.74724725],\n",
       "       [ 7.75875876],\n",
       "       [ 7.77027027],\n",
       "       [ 7.78178178],\n",
       "       [ 7.79329329],\n",
       "       [ 7.8048048 ],\n",
       "       [ 7.81631632],\n",
       "       [ 7.82782783],\n",
       "       [ 7.83933934],\n",
       "       [ 7.85085085],\n",
       "       [ 7.86236236],\n",
       "       [ 7.87387387],\n",
       "       [ 7.88538539],\n",
       "       [ 7.8968969 ],\n",
       "       [ 7.90840841],\n",
       "       [ 7.91991992],\n",
       "       [ 7.93143143],\n",
       "       [ 7.94294294],\n",
       "       [ 7.95445445],\n",
       "       [ 7.96596597],\n",
       "       [ 7.97747748],\n",
       "       [ 7.98898899],\n",
       "       [ 8.0005005 ],\n",
       "       [ 8.01201201],\n",
       "       [ 8.02352352],\n",
       "       [ 8.03503504],\n",
       "       [ 8.04654655],\n",
       "       [ 8.05805806],\n",
       "       [ 8.06956957],\n",
       "       [ 8.08108108],\n",
       "       [ 8.09259259],\n",
       "       [ 8.1041041 ],\n",
       "       [ 8.11561562],\n",
       "       [ 8.12712713],\n",
       "       [ 8.13863864],\n",
       "       [ 8.15015015],\n",
       "       [ 8.16166166],\n",
       "       [ 8.17317317],\n",
       "       [ 8.18468468],\n",
       "       [ 8.1961962 ],\n",
       "       [ 8.20770771],\n",
       "       [ 8.21921922],\n",
       "       [ 8.23073073],\n",
       "       [ 8.24224224],\n",
       "       [ 8.25375375],\n",
       "       [ 8.26526527],\n",
       "       [ 8.27677678],\n",
       "       [ 8.28828829],\n",
       "       [ 8.2997998 ],\n",
       "       [ 8.31131131],\n",
       "       [ 8.32282282],\n",
       "       [ 8.33433433],\n",
       "       [ 8.34584585],\n",
       "       [ 8.35735736],\n",
       "       [ 8.36886887],\n",
       "       [ 8.38038038],\n",
       "       [ 8.39189189],\n",
       "       [ 8.4034034 ],\n",
       "       [ 8.41491491],\n",
       "       [ 8.42642643],\n",
       "       [ 8.43793794],\n",
       "       [ 8.44944945],\n",
       "       [ 8.46096096],\n",
       "       [ 8.47247247],\n",
       "       [ 8.48398398],\n",
       "       [ 8.4954955 ],\n",
       "       [ 8.50700701],\n",
       "       [ 8.51851852],\n",
       "       [ 8.53003003],\n",
       "       [ 8.54154154],\n",
       "       [ 8.55305305],\n",
       "       [ 8.56456456],\n",
       "       [ 8.57607608],\n",
       "       [ 8.58758759],\n",
       "       [ 8.5990991 ],\n",
       "       [ 8.61061061],\n",
       "       [ 8.62212212],\n",
       "       [ 8.63363363],\n",
       "       [ 8.64514515],\n",
       "       [ 8.65665666],\n",
       "       [ 8.66816817],\n",
       "       [ 8.67967968],\n",
       "       [ 8.69119119],\n",
       "       [ 8.7027027 ],\n",
       "       [ 8.71421421],\n",
       "       [ 8.72572573],\n",
       "       [ 8.73723724],\n",
       "       [ 8.74874875],\n",
       "       [ 8.76026026],\n",
       "       [ 8.77177177],\n",
       "       [ 8.78328328],\n",
       "       [ 8.79479479],\n",
       "       [ 8.80630631],\n",
       "       [ 8.81781782],\n",
       "       [ 8.82932933],\n",
       "       [ 8.84084084],\n",
       "       [ 8.85235235],\n",
       "       [ 8.86386386],\n",
       "       [ 8.87537538],\n",
       "       [ 8.88688689],\n",
       "       [ 8.8983984 ],\n",
       "       [ 8.90990991],\n",
       "       [ 8.92142142],\n",
       "       [ 8.93293293],\n",
       "       [ 8.94444444],\n",
       "       [ 8.95595596],\n",
       "       [ 8.96746747],\n",
       "       [ 8.97897898],\n",
       "       [ 8.99049049],\n",
       "       [ 9.002002  ],\n",
       "       [ 9.01351351],\n",
       "       [ 9.02502503],\n",
       "       [ 9.03653654],\n",
       "       [ 9.04804805],\n",
       "       [ 9.05955956],\n",
       "       [ 9.07107107],\n",
       "       [ 9.08258258],\n",
       "       [ 9.09409409],\n",
       "       [ 9.10560561],\n",
       "       [ 9.11711712],\n",
       "       [ 9.12862863],\n",
       "       [ 9.14014014],\n",
       "       [ 9.15165165],\n",
       "       [ 9.16316316],\n",
       "       [ 9.17467467],\n",
       "       [ 9.18618619],\n",
       "       [ 9.1976977 ],\n",
       "       [ 9.20920921],\n",
       "       [ 9.22072072],\n",
       "       [ 9.23223223],\n",
       "       [ 9.24374374],\n",
       "       [ 9.25525526],\n",
       "       [ 9.26676677],\n",
       "       [ 9.27827828],\n",
       "       [ 9.28978979],\n",
       "       [ 9.3013013 ],\n",
       "       [ 9.31281281],\n",
       "       [ 9.32432432],\n",
       "       [ 9.33583584],\n",
       "       [ 9.34734735],\n",
       "       [ 9.35885886],\n",
       "       [ 9.37037037],\n",
       "       [ 9.38188188],\n",
       "       [ 9.39339339],\n",
       "       [ 9.4049049 ],\n",
       "       [ 9.41641642],\n",
       "       [ 9.42792793],\n",
       "       [ 9.43943944],\n",
       "       [ 9.45095095],\n",
       "       [ 9.46246246],\n",
       "       [ 9.47397397],\n",
       "       [ 9.48548549],\n",
       "       [ 9.496997  ],\n",
       "       [ 9.50850851],\n",
       "       [ 9.52002002],\n",
       "       [ 9.53153153],\n",
       "       [ 9.54304304],\n",
       "       [ 9.55455455],\n",
       "       [ 9.56606607],\n",
       "       [ 9.57757758],\n",
       "       [ 9.58908909],\n",
       "       [ 9.6006006 ],\n",
       "       [ 9.61211211],\n",
       "       [ 9.62362362],\n",
       "       [ 9.63513514],\n",
       "       [ 9.64664665],\n",
       "       [ 9.65815816],\n",
       "       [ 9.66966967],\n",
       "       [ 9.68118118],\n",
       "       [ 9.69269269],\n",
       "       [ 9.7042042 ],\n",
       "       [ 9.71571572],\n",
       "       [ 9.72722723],\n",
       "       [ 9.73873874],\n",
       "       [ 9.75025025],\n",
       "       [ 9.76176176],\n",
       "       [ 9.77327327],\n",
       "       [ 9.78478478],\n",
       "       [ 9.7962963 ],\n",
       "       [ 9.80780781],\n",
       "       [ 9.81931932],\n",
       "       [ 9.83083083],\n",
       "       [ 9.84234234],\n",
       "       [ 9.85385385],\n",
       "       [ 9.86536537],\n",
       "       [ 9.87687688],\n",
       "       [ 9.88838839],\n",
       "       [ 9.8998999 ],\n",
       "       [ 9.91141141],\n",
       "       [ 9.92292292],\n",
       "       [ 9.93443443],\n",
       "       [ 9.94594595],\n",
       "       [ 9.95745746],\n",
       "       [ 9.96896897],\n",
       "       [ 9.98048048],\n",
       "       [ 9.99199199],\n",
       "       [10.0035035 ],\n",
       "       [10.01501502],\n",
       "       [10.02652653],\n",
       "       [10.03803804],\n",
       "       [10.04954955],\n",
       "       [10.06106106],\n",
       "       [10.07257257],\n",
       "       [10.08408408],\n",
       "       [10.0955956 ],\n",
       "       [10.10710711],\n",
       "       [10.11861862],\n",
       "       [10.13013013],\n",
       "       [10.14164164],\n",
       "       [10.15315315],\n",
       "       [10.16466466],\n",
       "       [10.17617618],\n",
       "       [10.18768769],\n",
       "       [10.1991992 ],\n",
       "       [10.21071071],\n",
       "       [10.22222222],\n",
       "       [10.23373373],\n",
       "       [10.24524525],\n",
       "       [10.25675676],\n",
       "       [10.26826827],\n",
       "       [10.27977978],\n",
       "       [10.29129129],\n",
       "       [10.3028028 ],\n",
       "       [10.31431431],\n",
       "       [10.32582583],\n",
       "       [10.33733734],\n",
       "       [10.34884885],\n",
       "       [10.36036036],\n",
       "       [10.37187187],\n",
       "       [10.38338338],\n",
       "       [10.39489489],\n",
       "       [10.40640641],\n",
       "       [10.41791792],\n",
       "       [10.42942943],\n",
       "       [10.44094094],\n",
       "       [10.45245245],\n",
       "       [10.46396396],\n",
       "       [10.47547548],\n",
       "       [10.48698699],\n",
       "       [10.4984985 ],\n",
       "       [10.51001001],\n",
       "       [10.52152152],\n",
       "       [10.53303303],\n",
       "       [10.54454454],\n",
       "       [10.55605606],\n",
       "       [10.56756757],\n",
       "       [10.57907908],\n",
       "       [10.59059059],\n",
       "       [10.6021021 ],\n",
       "       [10.61361361],\n",
       "       [10.62512513],\n",
       "       [10.63663664],\n",
       "       [10.64814815],\n",
       "       [10.65965966],\n",
       "       [10.67117117],\n",
       "       [10.68268268],\n",
       "       [10.69419419],\n",
       "       [10.70570571],\n",
       "       [10.71721722],\n",
       "       [10.72872873],\n",
       "       [10.74024024],\n",
       "       [10.75175175],\n",
       "       [10.76326326],\n",
       "       [10.77477477],\n",
       "       [10.78628629],\n",
       "       [10.7977978 ],\n",
       "       [10.80930931],\n",
       "       [10.82082082],\n",
       "       [10.83233233],\n",
       "       [10.84384384],\n",
       "       [10.85535536],\n",
       "       [10.86686687],\n",
       "       [10.87837838],\n",
       "       [10.88988989],\n",
       "       [10.9014014 ],\n",
       "       [10.91291291],\n",
       "       [10.92442442],\n",
       "       [10.93593594],\n",
       "       [10.94744745],\n",
       "       [10.95895896],\n",
       "       [10.97047047],\n",
       "       [10.98198198],\n",
       "       [10.99349349],\n",
       "       [11.00500501],\n",
       "       [11.01651652],\n",
       "       [11.02802803],\n",
       "       [11.03953954],\n",
       "       [11.05105105],\n",
       "       [11.06256256],\n",
       "       [11.07407407],\n",
       "       [11.08558559],\n",
       "       [11.0970971 ],\n",
       "       [11.10860861],\n",
       "       [11.12012012],\n",
       "       [11.13163163],\n",
       "       [11.14314314],\n",
       "       [11.15465465],\n",
       "       [11.16616617],\n",
       "       [11.17767768],\n",
       "       [11.18918919],\n",
       "       [11.2007007 ],\n",
       "       [11.21221221],\n",
       "       [11.22372372],\n",
       "       [11.23523524],\n",
       "       [11.24674675],\n",
       "       [11.25825826],\n",
       "       [11.26976977],\n",
       "       [11.28128128],\n",
       "       [11.29279279],\n",
       "       [11.3043043 ],\n",
       "       [11.31581582],\n",
       "       [11.32732733],\n",
       "       [11.33883884],\n",
       "       [11.35035035],\n",
       "       [11.36186186],\n",
       "       [11.37337337],\n",
       "       [11.38488488],\n",
       "       [11.3963964 ],\n",
       "       [11.40790791],\n",
       "       [11.41941942],\n",
       "       [11.43093093],\n",
       "       [11.44244244],\n",
       "       [11.45395395],\n",
       "       [11.46546547],\n",
       "       [11.47697698],\n",
       "       [11.48848849],\n",
       "       [11.5       ]])"
      ]
     },
     "execution_count": 85,
     "metadata": {},
     "output_type": "execute_result"
    }
   ],
   "source": [
    "x_curve =np.c_[np.linspace(0, 11.5, 1000)]\n",
    "x_curve"
   ]
  },
  {
   "cell_type": "code",
   "execution_count": 87,
   "metadata": {},
   "outputs": [
    {
     "data": {
      "text/plain": [
       "[<matplotlib.lines.Line2D at 0x1f5662f4c10>]"
      ]
     },
     "execution_count": 87,
     "metadata": {},
     "output_type": "execute_result"
    },
    {
     "data": {
      "image/png": "[encoded data removed]",
      "text/plain": [
       "<Figure size 432x288 with 1 Axes>"
      ]
     },
     "metadata": {
      "needs_background": "light"
     },
     "output_type": "display_data"
    }
   ],
   "source": [
    "x_trans2 = polynomial.fit_transform(x_curve)\n",
    "y_curve = model.predict(x_trans2)\n",
    "scatter(x,y)\n",
    "plot(x_curve, y_curve)"
   ]
  },
  {
   "cell_type": "code",
   "execution_count": 88,
   "metadata": {},
   "outputs": [],
   "source": [
    "# curve fit\n",
    "import numpy as np\n",
    "from scipy.optimize import curve_fit \n"
   ]
  },
  {
   "cell_type": "code",
   "execution_count": 90,
   "metadata": {},
   "outputs": [
    {
     "ename": "NameError",
     "evalue": "name 'x_1' is not defined",
     "output_type": "error",
     "traceback": [
      "\u001b[1;31m---------------------------------------------------------------------------\u001b[0m",
      "\u001b[1;31mNameError\u001b[0m                                 Traceback (most recent call last)",
      "\u001b[1;32mc:\\numerical modeling fix deep learning asu\\Maschinelles Lernen\\mascinelles_lernen.ipynb Cell 39\u001b[0m line \u001b[0;36m<cell line: 4>\u001b[1;34m()\u001b[0m\n\u001b[0;32m      <a href='vscode-notebook-cell:/c%3A/numerical%20modeling%20fix%20deep%20learning%20asu/Maschinelles%20Lernen/mascinelles_lernen.ipynb#X53sZmlsZQ%3D%3D?line=0'>1</a>\u001b[0m \u001b[39mdef\u001b[39;00m \u001b[39mf\u001b[39m(x,a,b):\n\u001b[0;32m      <a href='vscode-notebook-cell:/c%3A/numerical%20modeling%20fix%20deep%20learning%20asu/Maschinelles%20Lernen/mascinelles_lernen.ipynb#X53sZmlsZQ%3D%3D?line=1'>2</a>\u001b[0m     \u001b[39mreturn\u001b[39;00m a\u001b[39m+\u001b[39mb\u001b[39m*\u001b[39mx\n\u001b[1;32m----> <a href='vscode-notebook-cell:/c%3A/numerical%20modeling%20fix%20deep%20learning%20asu/Maschinelles%20Lernen/mascinelles_lernen.ipynb#X53sZmlsZQ%3D%3D?line=3'>4</a>\u001b[0m x \u001b[39m=\u001b[39mnp\u001b[39m.\u001b[39marray([x_1, \u001b[39m.\u001b[39m\u001b[39m.\u001b[39m\u001b[39m.\u001b[39m, x_m])\n\u001b[0;32m      <a href='vscode-notebook-cell:/c%3A/numerical%20modeling%20fix%20deep%20learning%20asu/Maschinelles%20Lernen/mascinelles_lernen.ipynb#X53sZmlsZQ%3D%3D?line=4'>5</a>\u001b[0m y \u001b[39m=\u001b[39m np\u001b[39m.\u001b[39marray([y_1, \u001b[39m.\u001b[39m\u001b[39m.\u001b[39m\u001b[39m.\u001b[39m, y_m])\n\u001b[0;32m      <a href='vscode-notebook-cell:/c%3A/numerical%20modeling%20fix%20deep%20learning%20asu/Maschinelles%20Lernen/mascinelles_lernen.ipynb#X53sZmlsZQ%3D%3D?line=5'>6</a>\u001b[0m coefs, res \u001b[39m=\u001b[39m curve_fit(f,x,y)\n",
      "\u001b[1;31mNameError\u001b[0m: name 'x_1' is not defined"
     ]
    }
   ],
   "source": [
    "def f(x,a,b):\n",
    "    return a+b*x\n",
    "\n",
    "x =np.array([x_1, ..., x_m])\n",
    "y = np.array([y_1, ..., y_m])\n",
    "coefs, res = curve_fit(f,x,y)"
   ]
  },
  {
   "cell_type": "code",
   "execution_count": 91,
   "metadata": {},
   "outputs": [
    {
     "data": {
      "text/plain": [
       "array([1, 2, 3, 4, 5])"
      ]
     },
     "execution_count": 91,
     "metadata": {},
     "output_type": "execute_result"
    }
   ],
   "source": [
    "x_beispiel = np.array([1,2,3,4,5])\n",
    "x_beispiel"
   ]
  },
  {
   "cell_type": "markdown",
   "metadata": {},
   "source": [
    "## Exercise"
   ]
  },
  {
   "cell_type": "code",
   "execution_count": 1,
   "metadata": {},
   "outputs": [
    {
     "name": "stdout",
     "output_type": "stream",
     "text": [
      "hello world\n"
     ]
    }
   ],
   "source": [
    "#program 1\n",
    "print(\"hello world\")"
   ]
  },
  {
   "cell_type": "code",
   "execution_count": 2,
   "metadata": {},
   "outputs": [
    {
     "name": "stdout",
     "output_type": "stream",
     "text": [
      "sum : 2.0 + 3.0 = 5.0\n"
     ]
    }
   ],
   "source": [
    "# program 2\n",
    "number1 = float(input(\"enter the first number for addition : \"))\n",
    "number2 = float(input(\"enter the second number for addition : \"))\n",
    "sum_result = number1+number2\n",
    "print(f\"sum : {number1} + {number2} = {sum_result}\")\n"
   ]
  },
  {
   "cell_type": "code",
   "execution_count": 3,
   "metadata": {},
   "outputs": [
    {
     "name": "stdout",
     "output_type": "stream",
     "text": [
      "the area od triangle is : 4.0\n"
     ]
    }
   ],
   "source": [
    "# program 3\n",
    "# write a python program to find the area of triangle\n",
    "base = float(input(\" enter the length of the base of the triangle : \"))\n",
    "height = float(input(\" enter the height of the triangle : \"))\n",
    "area = .5*base*height\n",
    "print(f\"the area od triangle is : {area}\")"
   ]
  },
  {
   "cell_type": "code",
   "execution_count": 4,
   "metadata": {},
   "outputs": [
    {
     "name": "stdout",
     "output_type": "stream",
     "text": [
      "original values : a = 2, b = 3\n",
      "swapped values : a=3, b = 2\n"
     ]
    }
   ],
   "source": [
    "#program 4\n",
    "# write a program to swap two variables\n",
    "a = input(\"enter the value of the first variable (a) : \")\n",
    "b = input(\" enter the value of the second varuable (b) : \")\n",
    "# display the original values\n",
    "print(f\"original values : a = {a}, b = {b}\")\n",
    "# swap the values using a temporary variable\n",
    "temp = a\n",
    "a = b\n",
    "b = temp \n",
    "print(f'swapped values : a={a}, b = {b}')\n"
   ]
  },
  {
   "cell_type": "code",
   "execution_count": 38,
   "metadata": {},
   "outputs": [
    {
     "name": "stdout",
     "output_type": "stream",
     "text": [
      "random number = 47\n"
     ]
    }
   ],
   "source": [
    "# program 5\n",
    "# generate random number\n",
    "import random\n",
    "print(f\"random number = {random.randint(1,100)}\")\n"
   ]
  },
  {
   "cell_type": "code",
   "execution_count": 39,
   "metadata": {},
   "outputs": [
    {
     "name": "stdout",
     "output_type": "stream",
     "text": [
      "1.0 kilometers os equal to 0.621371 miles\n"
     ]
    }
   ],
   "source": [
    "# program 6\n",
    "# converting kilometers to miles\n",
    "kilometers = float(input('enter distance in kilometers :'))\n",
    "# conversion factor : 1 kilometer = 0.621371 miles\n",
    "convert = 0.621371\n",
    "miles = kilometers* convert\n",
    "print(f\"{kilometers} kilometers os equal to {miles} miles\")"
   ]
  },
  {
   "cell_type": "code",
   "execution_count": 43,
   "metadata": {},
   "outputs": [
    {
     "name": "stdout",
     "output_type": "stream",
     "text": [
      "     March 2024\n",
      "Mo Tu We Th Fr Sa Su\n",
      "             1  2  3\n",
      " 4  5  6  7  8  9 10\n",
      "11 12 13 14 15 16 17\n",
      "18 19 20 21 22 23 24\n",
      "25 26 27 28 29 30 31\n",
      "\n"
     ]
    }
   ],
   "source": [
    "# program 8\n",
    "# display calender\n",
    "import calendar \n",
    "year = int(input(\"enter year : \"))\n",
    "month = int(input(\"enter month : \"))\n",
    "calenderr = calendar.month(year, month)\n",
    "\n",
    "print(calenderr)"
   ]
  },
  {
   "cell_type": "code",
   "execution_count": 45,
   "metadata": {},
   "outputs": [
    {
     "name": "stdout",
     "output_type": "stream",
     "text": [
      "this is a odd number\n"
     ]
    }
   ],
   "source": [
    "# program 12\n",
    "# checking if a number is odd or even\n",
    "number = int(input(\" enter a number : \"))\n",
    "if number%2 == 0:\n",
    "    print('this is a even number')\n",
    "else:\n",
    "    print('this is a odd number')"
   ]
  },
  {
   "cell_type": "code",
   "execution_count": 52,
   "metadata": {},
   "outputs": [
    {
     "name": "stdout",
     "output_type": "stream",
     "text": [
      "the factorial of 6 is 720\n"
     ]
    }
   ],
   "source": [
    "# program 16: factorial\n",
    "number = int(input('enter a number : '))\n",
    "factorial = 1\n",
    "if number < 0:\n",
    "    print(\"doesn't exist\")\n",
    "elif number == 0:\n",
    "    print('factorial of 0 is 1')\n",
    "else:\n",
    "    for i in range(1, number+1):\n",
    "        factorial =factorial*i\n",
    "        #print(i)\n",
    "    print(f'the factorial of {number} is {factorial}')\n",
    "    \n",
    "\n"
   ]
  },
  {
   "cell_type": "code",
   "execution_count": 59,
   "metadata": {},
   "outputs": [
    {
     "name": "stdout",
     "output_type": "stream",
     "text": [
      "4 is not a prime number\n"
     ]
    }
   ],
   "source": [
    "number = int(input(\" enter a number : \"))\n",
    "flag = False\n",
    "\n",
    "if number == 1:\n",
    "    print(f'{number} is not a prime number')\n",
    "elif number > 1:\n",
    "    for i in range(2, number):\n",
    "        #print(i)\n",
    "        if (number%i)==0:\n",
    "            flag =  True\n",
    "            break\n",
    "if flag:\n",
    "    print(f'{number} is not a prime number')\n",
    "else:\n",
    "    print(f'{number} is a prime number')"
   ]
  },
  {
   "cell_type": "code",
   "execution_count": 62,
   "metadata": {},
   "outputs": [
    {
     "name": "stdout",
     "output_type": "stream",
     "text": [
      "2\n",
      "3\n"
     ]
    }
   ],
   "source": [
    "for i in range(2,4):\n",
    "    print(i)\n"
   ]
  },
  {
   "cell_type": "code",
   "execution_count": 65,
   "metadata": {},
   "outputs": [
    {
     "name": "stdout",
     "output_type": "stream",
     "text": [
      "prime numbers between 1 and 100 are :\n",
      "2\n",
      "3\n",
      "5\n",
      "7\n",
      "11\n",
      "13\n",
      "17\n",
      "19\n",
      "23\n",
      "29\n",
      "31\n",
      "37\n",
      "41\n",
      "43\n",
      "47\n",
      "53\n",
      "59\n",
      "61\n",
      "67\n",
      "71\n",
      "73\n",
      "79\n",
      "83\n",
      "89\n",
      "97\n"
     ]
    }
   ],
   "source": [
    "lower =1\n",
    "upper=100\n",
    "print(f'prime numbers between {lower} and {upper} are :')\n",
    "\n",
    "for number in range(lower, upper+1):\n",
    "    if number > 1:\n",
    "        for i in range(2, number):\n",
    "            if(number%i) == 0:\n",
    "                break\n",
    "\n",
    "        else:\n",
    "            print(number)"
   ]
  },
  {
   "cell_type": "code",
   "execution_count": 8,
   "metadata": {},
   "outputs": [
    {
     "data": {
      "text/plain": [
       "array([ 5, 12,  2,  6, 10])"
      ]
     },
     "execution_count": 8,
     "metadata": {},
     "output_type": "execute_result"
    }
   ],
   "source": [
    "import numpy as np\n",
    "x = np.array([107.9, 149.8, 85.5, 115.5, 138.4]) # Grose = height\n",
    "#x = np.ravel(x)\n",
    "y = np.array([5,12,2,6,10])\n",
    "y\n"
   ]
  },
  {
   "cell_type": "code",
   "execution_count": 9,
   "metadata": {},
   "outputs": [],
   "source": [
    "from pylab import *"
   ]
  },
  {
   "cell_type": "code",
   "execution_count": 10,
   "metadata": {},
   "outputs": [
    {
     "data": {
      "text/plain": [
       "<matplotlib.collections.PathCollection at 0x1e71355a560>"
      ]
     },
     "execution_count": 10,
     "metadata": {},
     "output_type": "execute_result"
    },
    {
     "data": {
      "image/png": "[encoded data removed]",
      "text/plain": [
       "<Figure size 432x288 with 1 Axes>"
      ]
     },
     "metadata": {
      "needs_background": "light"
     },
     "output_type": "display_data"
    }
   ],
   "source": [
    "scatter(x,y) # data from pandas"
   ]
  },
  {
   "cell_type": "code",
   "execution_count": 11,
   "metadata": {},
   "outputs": [],
   "source": [
    "from sklearn.linear_model import LinearRegression"
   ]
  },
  {
   "cell_type": "code",
   "execution_count": 16,
   "metadata": {},
   "outputs": [],
   "source": [
    "x = np.c_[x]\n",
    "x\n",
    "y = np.c_[y]"
   ]
  },
  {
   "cell_type": "code",
   "execution_count": 12,
   "metadata": {},
   "outputs": [
    {
     "data": {
      "text/html": [
       "<style>#sk-container-id-1 {color: black;background-color: white;}#sk-container-id-1 pre{padding: 0;}#sk-container-id-1 div.sk-toggleable {background-color: white;}#sk-container-id-1 label.sk-toggleable__label {cursor: pointer;display: block;width: 100%;margin-bottom: 0;padding: 0.3em;box-sizing: border-box;text-align: center;}#sk-container-id-1 label.sk-toggleable__label-arrow:before {content: \"▸\";float: left;margin-right: 0.25em;color: #696969;}#sk-container-id-1 label.sk-toggleable__label-arrow:hover:before {color: black;}#sk-container-id-1 div.sk-estimator:hover label.sk-toggleable__label-arrow:before {color: black;}#sk-container-id-1 div.sk-toggleable__content {max-height: 0;max-width: 0;overflow: hidden;text-align: left;background-color: #f0f8ff;}#sk-container-id-1 div.sk-toggleable__content pre {margin: 0.2em;color: black;border-radius: 0.25em;background-color: #f0f8ff;}#sk-container-id-1 input.sk-toggleable__control:checked~div.sk-toggleable__content {max-height: 200px;max-width: 100%;overflow: auto;}#sk-container-id-1 input.sk-toggleable__control:checked~label.sk-toggleable__label-arrow:before {content: \"▾\";}#sk-container-id-1 div.sk-estimator input.sk-toggleable__control:checked~label.sk-toggleable__label {background-color: #d4ebff;}#sk-container-id-1 div.sk-label input.sk-toggleable__control:checked~label.sk-toggleable__label {background-color: #d4ebff;}#sk-container-id-1 input.sk-hidden--visually {border: 0;clip: rect(1px 1px 1px 1px);clip: rect(1px, 1px, 1px, 1px);height: 1px;margin: -1px;overflow: hidden;padding: 0;position: absolute;width: 1px;}#sk-container-id-1 div.sk-estimator {font-family: monospace;background-color: #f0f8ff;border: 1px dotted black;border-radius: 0.25em;box-sizing: border-box;margin-bottom: 0.5em;}#sk-container-id-1 div.sk-estimator:hover {background-color: #d4ebff;}#sk-container-id-1 div.sk-parallel-item::after {content: \"\";width: 100%;border-bottom: 1px solid gray;flex-grow: 1;}#sk-container-id-1 div.sk-label:hover label.sk-toggleable__label {background-color: #d4ebff;}#sk-container-id-1 div.sk-serial::before {content: \"\";position: absolute;border-left: 1px solid gray;box-sizing: border-box;top: 0;bottom: 0;left: 50%;z-index: 0;}#sk-container-id-1 div.sk-serial {display: flex;flex-direction: column;align-items: center;background-color: white;padding-right: 0.2em;padding-left: 0.2em;position: relative;}#sk-container-id-1 div.sk-item {position: relative;z-index: 1;}#sk-container-id-1 div.sk-parallel {display: flex;align-items: stretch;justify-content: center;background-color: white;position: relative;}#sk-container-id-1 div.sk-item::before, #sk-container-id-1 div.sk-parallel-item::before {content: \"\";position: absolute;border-left: 1px solid gray;box-sizing: border-box;top: 0;bottom: 0;left: 50%;z-index: -1;}#sk-container-id-1 div.sk-parallel-item {display: flex;flex-direction: column;z-index: 1;position: relative;background-color: white;}#sk-container-id-1 div.sk-parallel-item:first-child::after {align-self: flex-end;width: 50%;}#sk-container-id-1 div.sk-parallel-item:last-child::after {align-self: flex-start;width: 50%;}#sk-container-id-1 div.sk-parallel-item:only-child::after {width: 0;}#sk-container-id-1 div.sk-dashed-wrapped {border: 1px dashed gray;margin: 0 0.4em 0.5em 0.4em;box-sizing: border-box;padding-bottom: 0.4em;background-color: white;}#sk-container-id-1 div.sk-label label {font-family: monospace;font-weight: bold;display: inline-block;line-height: 1.2em;}#sk-container-id-1 div.sk-label-container {text-align: center;}#sk-container-id-1 div.sk-container {/* jupyter's `normalize.less` sets `[hidden] { display: none; }` but bootstrap.min.css set `[hidden] { display: none !important; }` so we also need the `!important` here to be able to override the default hidden behavior on the sphinx rendered scikit-learn.org. See: https://github.com/scikit-learn/scikit-learn/issues/21755 */display: inline-block !important;position: relative;}#sk-container-id-1 div.sk-text-repr-fallback {display: none;}</style><div id=\"sk-container-id-1\" class=\"sk-top-container\"><div class=\"sk-text-repr-fallback\"><pre>LinearRegression()</pre><b>In a Jupyter environment, please rerun this cell to show the HTML representation or trust the notebook. <br />On GitHub, the HTML representation is unable to render, please try loading this page with nbviewer.org.</b></div><div class=\"sk-container\" hidden><div class=\"sk-item\"><div class=\"sk-estimator sk-toggleable\"><input class=\"sk-toggleable__control sk-hidden--visually\" id=\"sk-estimator-id-1\" type=\"checkbox\" checked><label for=\"sk-estimator-id-1\" class=\"sk-toggleable__label sk-toggleable__label-arrow\">LinearRegression</label><div class=\"sk-toggleable__content\"><pre>LinearRegression()</pre></div></div></div></div></div>"
      ],
      "text/plain": [
       "LinearRegression()"
      ]
     },
     "execution_count": 12,
     "metadata": {},
     "output_type": "execute_result"
    }
   ],
   "source": [
    "\n",
    "LinearRegression()"
   ]
  },
  {
   "cell_type": "code",
   "execution_count": 17,
   "metadata": {},
   "outputs": [
    {
     "data": {
      "text/html": [
       "<style>#sk-container-id-2 {color: black;background-color: white;}#sk-container-id-2 pre{padding: 0;}#sk-container-id-2 div.sk-toggleable {background-color: white;}#sk-container-id-2 label.sk-toggleable__label {cursor: pointer;display: block;width: 100%;margin-bottom: 0;padding: 0.3em;box-sizing: border-box;text-align: center;}#sk-container-id-2 label.sk-toggleable__label-arrow:before {content: \"▸\";float: left;margin-right: 0.25em;color: #696969;}#sk-container-id-2 label.sk-toggleable__label-arrow:hover:before {color: black;}#sk-container-id-2 div.sk-estimator:hover label.sk-toggleable__label-arrow:before {color: black;}#sk-container-id-2 div.sk-toggleable__content {max-height: 0;max-width: 0;overflow: hidden;text-align: left;background-color: #f0f8ff;}#sk-container-id-2 div.sk-toggleable__content pre {margin: 0.2em;color: black;border-radius: 0.25em;background-color: #f0f8ff;}#sk-container-id-2 input.sk-toggleable__control:checked~div.sk-toggleable__content {max-height: 200px;max-width: 100%;overflow: auto;}#sk-container-id-2 input.sk-toggleable__control:checked~label.sk-toggleable__label-arrow:before {content: \"▾\";}#sk-container-id-2 div.sk-estimator input.sk-toggleable__control:checked~label.sk-toggleable__label {background-color: #d4ebff;}#sk-container-id-2 div.sk-label input.sk-toggleable__control:checked~label.sk-toggleable__label {background-color: #d4ebff;}#sk-container-id-2 input.sk-hidden--visually {border: 0;clip: rect(1px 1px 1px 1px);clip: rect(1px, 1px, 1px, 1px);height: 1px;margin: -1px;overflow: hidden;padding: 0;position: absolute;width: 1px;}#sk-container-id-2 div.sk-estimator {font-family: monospace;background-color: #f0f8ff;border: 1px dotted black;border-radius: 0.25em;box-sizing: border-box;margin-bottom: 0.5em;}#sk-container-id-2 div.sk-estimator:hover {background-color: #d4ebff;}#sk-container-id-2 div.sk-parallel-item::after {content: \"\";width: 100%;border-bottom: 1px solid gray;flex-grow: 1;}#sk-container-id-2 div.sk-label:hover label.sk-toggleable__label {background-color: #d4ebff;}#sk-container-id-2 div.sk-serial::before {content: \"\";position: absolute;border-left: 1px solid gray;box-sizing: border-box;top: 0;bottom: 0;left: 50%;z-index: 0;}#sk-container-id-2 div.sk-serial {display: flex;flex-direction: column;align-items: center;background-color: white;padding-right: 0.2em;padding-left: 0.2em;position: relative;}#sk-container-id-2 div.sk-item {position: relative;z-index: 1;}#sk-container-id-2 div.sk-parallel {display: flex;align-items: stretch;justify-content: center;background-color: white;position: relative;}#sk-container-id-2 div.sk-item::before, #sk-container-id-2 div.sk-parallel-item::before {content: \"\";position: absolute;border-left: 1px solid gray;box-sizing: border-box;top: 0;bottom: 0;left: 50%;z-index: -1;}#sk-container-id-2 div.sk-parallel-item {display: flex;flex-direction: column;z-index: 1;position: relative;background-color: white;}#sk-container-id-2 div.sk-parallel-item:first-child::after {align-self: flex-end;width: 50%;}#sk-container-id-2 div.sk-parallel-item:last-child::after {align-self: flex-start;width: 50%;}#sk-container-id-2 div.sk-parallel-item:only-child::after {width: 0;}#sk-container-id-2 div.sk-dashed-wrapped {border: 1px dashed gray;margin: 0 0.4em 0.5em 0.4em;box-sizing: border-box;padding-bottom: 0.4em;background-color: white;}#sk-container-id-2 div.sk-label label {font-family: monospace;font-weight: bold;display: inline-block;line-height: 1.2em;}#sk-container-id-2 div.sk-label-container {text-align: center;}#sk-container-id-2 div.sk-container {/* jupyter's `normalize.less` sets `[hidden] { display: none; }` but bootstrap.min.css set `[hidden] { display: none !important; }` so we also need the `!important` here to be able to override the default hidden behavior on the sphinx rendered scikit-learn.org. See: https://github.com/scikit-learn/scikit-learn/issues/21755 */display: inline-block !important;position: relative;}#sk-container-id-2 div.sk-text-repr-fallback {display: none;}</style><div id=\"sk-container-id-2\" class=\"sk-top-container\"><div class=\"sk-text-repr-fallback\"><pre>LinearRegression()</pre><b>In a Jupyter environment, please rerun this cell to show the HTML representation or trust the notebook. <br />On GitHub, the HTML representation is unable to render, please try loading this page with nbviewer.org.</b></div><div class=\"sk-container\" hidden><div class=\"sk-item\"><div class=\"sk-estimator sk-toggleable\"><input class=\"sk-toggleable__control sk-hidden--visually\" id=\"sk-estimator-id-2\" type=\"checkbox\" checked><label for=\"sk-estimator-id-2\" class=\"sk-toggleable__label sk-toggleable__label-arrow\">LinearRegression</label><div class=\"sk-toggleable__content\"><pre>LinearRegression()</pre></div></div></div></div></div>"
      ],
      "text/plain": [
       "LinearRegression()"
      ]
     },
     "execution_count": 17,
     "metadata": {},
     "output_type": "execute_result"
    }
   ],
   "source": [
    "model = LinearRegression()\n",
    "model.fit(x,y)\n"
   ]
  },
  {
   "cell_type": "code",
   "execution_count": 21,
   "metadata": {},
   "outputs": [],
   "source": [
    "xtest = [[x.min()], [x.max()]]\n",
    "xtest\n",
    "ypred = model.predict(xtest)"
   ]
  },
  {
   "cell_type": "code",
   "execution_count": 22,
   "metadata": {},
   "outputs": [
    {
     "data": {
      "text/plain": [
       "[<matplotlib.lines.Line2D at 0x1e723bf9b40>]"
      ]
     },
     "execution_count": 22,
     "metadata": {},
     "output_type": "execute_result"
    },
    {
     "data": {
      "image/png": "[encoded data removed]",
      "text/plain": [
       "<Figure size 432x288 with 1 Axes>"
      ]
     },
     "metadata": {
      "needs_background": "light"
     },
     "output_type": "display_data"
    }
   ],
   "source": [
    "scatter(x,y)\n",
    "plot(xtest, ypred,'r')"
   ]
  },
  {
   "cell_type": "code",
   "execution_count": 23,
   "metadata": {},
   "outputs": [
    {
     "name": "stdout",
     "output_type": "stream",
     "text": [
      "[-11.75139165]\n"
     ]
    }
   ],
   "source": [
    "print(model.intercept_)"
   ]
  },
  {
   "cell_type": "code",
   "execution_count": 24,
   "metadata": {},
   "outputs": [
    {
     "name": "stdout",
     "output_type": "stream",
     "text": [
      "[[0.15702053]]\n"
     ]
    }
   ],
   "source": [
    "print(model.coef_)"
   ]
  },
  {
   "cell_type": "code",
   "execution_count": 27,
   "metadata": {},
   "outputs": [
    {
     "ename": "ValueError",
     "evalue": "Found input variables with inconsistent numbers of samples: [100, 5]",
     "output_type": "error",
     "traceback": [
      "\u001b[1;31m---------------------------------------------------------------------------\u001b[0m",
      "\u001b[1;31mValueError\u001b[0m                                Traceback (most recent call last)",
      "\u001b[1;32mc:\\numerical modeling fix deep learning asu\\Maschinelles Lernen\\mascinelles_lernen.ipynb Cell 68\u001b[0m line \u001b[0;36m<cell line: 3>\u001b[1;34m()\u001b[0m\n\u001b[0;32m      <a href='vscode-notebook-cell:/c%3A/numerical%20modeling%20fix%20deep%20learning%20asu/Maschinelles%20Lernen/mascinelles_lernen.ipynb#Y124sZmlsZQ%3D%3D?line=0'>1</a>\u001b[0m xtest2 \u001b[39m=\u001b[39m np\u001b[39m.\u001b[39mlinspace(\u001b[39m-\u001b[39m\u001b[39m5\u001b[39m,\u001b[39m5\u001b[39m,\u001b[39m100\u001b[39m)\n\u001b[0;32m      <a href='vscode-notebook-cell:/c%3A/numerical%20modeling%20fix%20deep%20learning%20asu/Maschinelles%20Lernen/mascinelles_lernen.ipynb#Y124sZmlsZQ%3D%3D?line=1'>2</a>\u001b[0m xtest2 \u001b[39m=\u001b[39m np\u001b[39m.\u001b[39mc_[xtest2]\n\u001b[1;32m----> <a href='vscode-notebook-cell:/c%3A/numerical%20modeling%20fix%20deep%20learning%20asu/Maschinelles%20Lernen/mascinelles_lernen.ipynb#Y124sZmlsZQ%3D%3D?line=2'>3</a>\u001b[0m model\u001b[39m.\u001b[39;49mfit(xtest2, y)\n\u001b[0;32m      <a href='vscode-notebook-cell:/c%3A/numerical%20modeling%20fix%20deep%20learning%20asu/Maschinelles%20Lernen/mascinelles_lernen.ipynb#Y124sZmlsZQ%3D%3D?line=3'>4</a>\u001b[0m ypred2 \u001b[39m=\u001b[39m model\u001b[39m.\u001b[39mpredict(xtest2)\n",
      "File \u001b[1;32m~\\AppData\\Roaming\\Python\\Python310\\site-packages\\sklearn\\linear_model\\_base.py:684\u001b[0m, in \u001b[0;36mLinearRegression.fit\u001b[1;34m(self, X, y, sample_weight)\u001b[0m\n\u001b[0;32m    680\u001b[0m n_jobs_ \u001b[39m=\u001b[39m \u001b[39mself\u001b[39m\u001b[39m.\u001b[39mn_jobs\n\u001b[0;32m    682\u001b[0m accept_sparse \u001b[39m=\u001b[39m \u001b[39mFalse\u001b[39;00m \u001b[39mif\u001b[39;00m \u001b[39mself\u001b[39m\u001b[39m.\u001b[39mpositive \u001b[39melse\u001b[39;00m [\u001b[39m\"\u001b[39m\u001b[39mcsr\u001b[39m\u001b[39m\"\u001b[39m, \u001b[39m\"\u001b[39m\u001b[39mcsc\u001b[39m\u001b[39m\"\u001b[39m, \u001b[39m\"\u001b[39m\u001b[39mcoo\u001b[39m\u001b[39m\"\u001b[39m]\n\u001b[1;32m--> 684\u001b[0m X, y \u001b[39m=\u001b[39m \u001b[39mself\u001b[39;49m\u001b[39m.\u001b[39;49m_validate_data(\n\u001b[0;32m    685\u001b[0m     X, y, accept_sparse\u001b[39m=\u001b[39;49maccept_sparse, y_numeric\u001b[39m=\u001b[39;49m\u001b[39mTrue\u001b[39;49;00m, multi_output\u001b[39m=\u001b[39;49m\u001b[39mTrue\u001b[39;49;00m\n\u001b[0;32m    686\u001b[0m )\n\u001b[0;32m    688\u001b[0m sample_weight \u001b[39m=\u001b[39m _check_sample_weight(\n\u001b[0;32m    689\u001b[0m     sample_weight, X, dtype\u001b[39m=\u001b[39mX\u001b[39m.\u001b[39mdtype, only_non_negative\u001b[39m=\u001b[39m\u001b[39mTrue\u001b[39;00m\n\u001b[0;32m    690\u001b[0m )\n\u001b[0;32m    692\u001b[0m X, y, X_offset, y_offset, X_scale \u001b[39m=\u001b[39m _preprocess_data(\n\u001b[0;32m    693\u001b[0m     X,\n\u001b[0;32m    694\u001b[0m     y,\n\u001b[1;32m   (...)\u001b[0m\n\u001b[0;32m    698\u001b[0m     sample_weight\u001b[39m=\u001b[39msample_weight,\n\u001b[0;32m    699\u001b[0m )\n",
      "File \u001b[1;32m~\\AppData\\Roaming\\Python\\Python310\\site-packages\\sklearn\\base.py:596\u001b[0m, in \u001b[0;36mBaseEstimator._validate_data\u001b[1;34m(self, X, y, reset, validate_separately, **check_params)\u001b[0m\n\u001b[0;32m    594\u001b[0m         y \u001b[39m=\u001b[39m check_array(y, input_name\u001b[39m=\u001b[39m\u001b[39m\"\u001b[39m\u001b[39my\u001b[39m\u001b[39m\"\u001b[39m, \u001b[39m*\u001b[39m\u001b[39m*\u001b[39mcheck_y_params)\n\u001b[0;32m    595\u001b[0m     \u001b[39melse\u001b[39;00m:\n\u001b[1;32m--> 596\u001b[0m         X, y \u001b[39m=\u001b[39m check_X_y(X, y, \u001b[39m*\u001b[39m\u001b[39m*\u001b[39mcheck_params)\n\u001b[0;32m    597\u001b[0m     out \u001b[39m=\u001b[39m X, y\n\u001b[0;32m    599\u001b[0m \u001b[39mif\u001b[39;00m \u001b[39mnot\u001b[39;00m no_val_X \u001b[39mand\u001b[39;00m check_params\u001b[39m.\u001b[39mget(\u001b[39m\"\u001b[39m\u001b[39mensure_2d\u001b[39m\u001b[39m\"\u001b[39m, \u001b[39mTrue\u001b[39;00m):\n",
      "File \u001b[1;32m~\\AppData\\Roaming\\Python\\Python310\\site-packages\\sklearn\\utils\\validation.py:1092\u001b[0m, in \u001b[0;36mcheck_X_y\u001b[1;34m(X, y, accept_sparse, accept_large_sparse, dtype, order, copy, force_all_finite, ensure_2d, allow_nd, multi_output, ensure_min_samples, ensure_min_features, y_numeric, estimator)\u001b[0m\n\u001b[0;32m   1074\u001b[0m X \u001b[39m=\u001b[39m check_array(\n\u001b[0;32m   1075\u001b[0m     X,\n\u001b[0;32m   1076\u001b[0m     accept_sparse\u001b[39m=\u001b[39maccept_sparse,\n\u001b[1;32m   (...)\u001b[0m\n\u001b[0;32m   1087\u001b[0m     input_name\u001b[39m=\u001b[39m\u001b[39m\"\u001b[39m\u001b[39mX\u001b[39m\u001b[39m\"\u001b[39m,\n\u001b[0;32m   1088\u001b[0m )\n\u001b[0;32m   1090\u001b[0m y \u001b[39m=\u001b[39m _check_y(y, multi_output\u001b[39m=\u001b[39mmulti_output, y_numeric\u001b[39m=\u001b[39my_numeric, estimator\u001b[39m=\u001b[39mestimator)\n\u001b[1;32m-> 1092\u001b[0m check_consistent_length(X, y)\n\u001b[0;32m   1094\u001b[0m \u001b[39mreturn\u001b[39;00m X, y\n",
      "File \u001b[1;32m~\\AppData\\Roaming\\Python\\Python310\\site-packages\\sklearn\\utils\\validation.py:387\u001b[0m, in \u001b[0;36mcheck_consistent_length\u001b[1;34m(*arrays)\u001b[0m\n\u001b[0;32m    385\u001b[0m uniques \u001b[39m=\u001b[39m np\u001b[39m.\u001b[39munique(lengths)\n\u001b[0;32m    386\u001b[0m \u001b[39mif\u001b[39;00m \u001b[39mlen\u001b[39m(uniques) \u001b[39m>\u001b[39m \u001b[39m1\u001b[39m:\n\u001b[1;32m--> 387\u001b[0m     \u001b[39mraise\u001b[39;00m \u001b[39mValueError\u001b[39;00m(\n\u001b[0;32m    388\u001b[0m         \u001b[39m\"\u001b[39m\u001b[39mFound input variables with inconsistent numbers of samples: \u001b[39m\u001b[39m%r\u001b[39;00m\u001b[39m\"\u001b[39m\n\u001b[0;32m    389\u001b[0m         \u001b[39m%\u001b[39m [\u001b[39mint\u001b[39m(l) \u001b[39mfor\u001b[39;00m l \u001b[39min\u001b[39;00m lengths]\n\u001b[0;32m    390\u001b[0m     )\n",
      "\u001b[1;31mValueError\u001b[0m: Found input variables with inconsistent numbers of samples: [100, 5]"
     ]
    }
   ],
   "source": [
    "xtest2 = np.linspace(-5,5,100)\n",
    "xtest2 = np.c_[xtest2]\n",
    "model.fit(xtest2, y)\n",
    "ypred2 = model.predict(xtest2)"
   ]
  },
  {
   "cell_type": "code",
   "execution_count": 1,
   "metadata": {},
   "outputs": [],
   "source": [
    "# 3d plot in machine learning\n",
    "import numpy as np\n"
   ]
  },
  {
   "cell_type": "code",
   "execution_count": 5,
   "metadata": {},
   "outputs": [
    {
     "ename": "TypeError",
     "evalue": "'int' object is not callable",
     "output_type": "error",
     "traceback": [
      "\u001b[1;31m---------------------------------------------------------------------------\u001b[0m",
      "\u001b[1;31mTypeError\u001b[0m                                 Traceback (most recent call last)",
      "\u001b[1;32mc:\\numerical modeling fix deep learning asu\\Maschinelles Lernen\\mascinelles_lernen.ipynb Cell 70\u001b[0m line \u001b[0;36m<cell line: 6>\u001b[1;34m()\u001b[0m\n\u001b[0;32m      <a href='vscode-notebook-cell:/c%3A/numerical%20modeling%20fix%20deep%20learning%20asu/Maschinelles%20Lernen/mascinelles_lernen.ipynb#Y126sZmlsZQ%3D%3D?line=3'>4</a>\u001b[0m sat_english\n\u001b[0;32m      <a href='vscode-notebook-cell:/c%3A/numerical%20modeling%20fix%20deep%20learning%20asu/Maschinelles%20Lernen/mascinelles_lernen.ipynb#Y126sZmlsZQ%3D%3D?line=4'>5</a>\u001b[0m gpa \u001b[39m=\u001b[39m np\u001b[39m.\u001b[39marray([\u001b[39m3.95\u001b[39m, \u001b[39m3.84\u001b[39m, \u001b[39m3.68\u001b[39m, \u001b[39m3.59\u001b[39m, \u001b[39m3.57\u001b[39m, \u001b[39m3.49\u001b[39m, \u001b[39m3.47\u001b[39m, \u001b[39m3.40\u001b[39m, \u001b[39m3.08\u001b[39m])\n\u001b[1;32m----> <a href='vscode-notebook-cell:/c%3A/numerical%20modeling%20fix%20deep%20learning%20asu/Maschinelles%20Lernen/mascinelles_lernen.ipynb#Y126sZmlsZQ%3D%3D?line=5'>6</a>\u001b[0m gpa\u001b[39m.\u001b[39;49msize()\n",
      "\u001b[1;31mTypeError\u001b[0m: 'int' object is not callable"
     ]
    }
   ],
   "source": [
    "sat_math = np.array([79,71, 75,74, 70, 67, 73, 79,76])\n",
    "sat_math\n",
    "sat_english = np.array([74, 76, 66, 76,76, 66, 71, 71, 57])\n",
    "sat_english\n",
    "gpa = np.array([3.95, 3.84, 3.68, 3.59, 3.57, 3.49, 3.47, 3.40, 3.08])\n",
    "gpa.size()"
   ]
  },
  {
   "cell_type": "code",
   "execution_count": 7,
   "metadata": {},
   "outputs": [
    {
     "data": {
      "text/plain": [
       "array([[79, 74],\n",
       "       [71, 76],\n",
       "       [75, 66],\n",
       "       [74, 76],\n",
       "       [70, 76],\n",
       "       [67, 66],\n",
       "       [73, 71],\n",
       "       [79, 71],\n",
       "       [76, 57]])"
      ]
     },
     "execution_count": 7,
     "metadata": {},
     "output_type": "execute_result"
    }
   ],
   "source": [
    "features = np.c_[sat_math,sat_english]\n",
    "features"
   ]
  },
  {
   "cell_type": "code",
   "execution_count": 9,
   "metadata": {},
   "outputs": [
    {
     "ename": "TypeError",
     "evalue": "'CClass' object is not callable",
     "output_type": "error",
     "traceback": [
      "\u001b[1;31m---------------------------------------------------------------------------\u001b[0m",
      "\u001b[1;31mTypeError\u001b[0m                                 Traceback (most recent call last)",
      "\u001b[1;32mc:\\numerical modeling fix deep learning asu\\Maschinelles Lernen\\mascinelles_lernen.ipynb Cell 72\u001b[0m line \u001b[0;36m<cell line: 1>\u001b[1;34m()\u001b[0m\n\u001b[1;32m----> <a href='vscode-notebook-cell:/c%3A/numerical%20modeling%20fix%20deep%20learning%20asu/Maschinelles%20Lernen/mascinelles_lernen.ipynb#Y131sZmlsZQ%3D%3D?line=0'>1</a>\u001b[0m np\u001b[39m.\u001b[39;49mc_([sat_english])\n",
      "\u001b[1;31mTypeError\u001b[0m: 'CClass' object is not callable"
     ]
    }
   ],
   "source": [
    "np.c_([sat_english])"
   ]
  },
  {
   "cell_type": "code",
   "execution_count": 11,
   "metadata": {},
   "outputs": [
    {
     "data": {
      "text/plain": [
       "array([[3.95],\n",
       "       [3.84],\n",
       "       [3.68],\n",
       "       [3.59],\n",
       "       [3.57],\n",
       "       [3.49],\n",
       "       [3.47],\n",
       "       [3.4 ],\n",
       "       [3.08]])"
      ]
     },
     "execution_count": 11,
     "metadata": {},
     "output_type": "execute_result"
    }
   ],
   "source": [
    "target = np.c_[gpa]\n",
    "target"
   ]
  },
  {
   "cell_type": "code",
   "execution_count": 13,
   "metadata": {},
   "outputs": [],
   "source": [
    "from sklearn.linear_model import LinearRegression\n",
    "from sklearn.metrics import r2_score"
   ]
  },
  {
   "cell_type": "code",
   "execution_count": 14,
   "metadata": {},
   "outputs": [],
   "source": [
    "import matplotlib.pyplot as plt"
   ]
  },
  {
   "cell_type": "code",
   "execution_count": 16,
   "metadata": {},
   "outputs": [
    {
     "data": {
      "text/plain": [
       "array([74, 76, 66, 76, 76, 66, 71, 71, 57])"
      ]
     },
     "execution_count": 16,
     "metadata": {},
     "output_type": "execute_result"
    }
   ],
   "source": [
    "features[:,0] # sat math sprache\n",
    "features[:,1] # sat english sprache"
   ]
  },
  {
   "cell_type": "code",
   "execution_count": 22,
   "metadata": {},
   "outputs": [
    {
     "data": {
      "text/plain": [
       "<matplotlib.legend.Legend at 0x15ad3906b00>"
      ]
     },
     "execution_count": 22,
     "metadata": {},
     "output_type": "execute_result"
    },
    {
     "data": {
      "image/png": "[encoded data removed]",
      "text/plain": [
       "<Figure size 432x288 with 1 Axes>"
      ]
     },
     "metadata": {
      "needs_background": "light"
     },
     "output_type": "display_data"
    }
   ],
   "source": [
    "plt.scatter(features[:,0], gpa, c='k', label='gpa vs sat mathematics ')\n",
    "plt.legend()\n"
   ]
  },
  {
   "cell_type": "code",
   "execution_count": 23,
   "metadata": {},
   "outputs": [],
   "source": [
    "model = LinearRegression()"
   ]
  },
  {
   "cell_type": "code",
   "execution_count": 24,
   "metadata": {},
   "outputs": [
    {
     "data": {
      "text/html": [
       "<style>#sk-container-id-1 {color: black;background-color: white;}#sk-container-id-1 pre{padding: 0;}#sk-container-id-1 div.sk-toggleable {background-color: white;}#sk-container-id-1 label.sk-toggleable__label {cursor: pointer;display: block;width: 100%;margin-bottom: 0;padding: 0.3em;box-sizing: border-box;text-align: center;}#sk-container-id-1 label.sk-toggleable__label-arrow:before {content: \"▸\";float: left;margin-right: 0.25em;color: #696969;}#sk-container-id-1 label.sk-toggleable__label-arrow:hover:before {color: black;}#sk-container-id-1 div.sk-estimator:hover label.sk-toggleable__label-arrow:before {color: black;}#sk-container-id-1 div.sk-toggleable__content {max-height: 0;max-width: 0;overflow: hidden;text-align: left;background-color: #f0f8ff;}#sk-container-id-1 div.sk-toggleable__content pre {margin: 0.2em;color: black;border-radius: 0.25em;background-color: #f0f8ff;}#sk-container-id-1 input.sk-toggleable__control:checked~div.sk-toggleable__content {max-height: 200px;max-width: 100%;overflow: auto;}#sk-container-id-1 input.sk-toggleable__control:checked~label.sk-toggleable__label-arrow:before {content: \"▾\";}#sk-container-id-1 div.sk-estimator input.sk-toggleable__control:checked~label.sk-toggleable__label {background-color: #d4ebff;}#sk-container-id-1 div.sk-label input.sk-toggleable__control:checked~label.sk-toggleable__label {background-color: #d4ebff;}#sk-container-id-1 input.sk-hidden--visually {border: 0;clip: rect(1px 1px 1px 1px);clip: rect(1px, 1px, 1px, 1px);height: 1px;margin: -1px;overflow: hidden;padding: 0;position: absolute;width: 1px;}#sk-container-id-1 div.sk-estimator {font-family: monospace;background-color: #f0f8ff;border: 1px dotted black;border-radius: 0.25em;box-sizing: border-box;margin-bottom: 0.5em;}#sk-container-id-1 div.sk-estimator:hover {background-color: #d4ebff;}#sk-container-id-1 div.sk-parallel-item::after {content: \"\";width: 100%;border-bottom: 1px solid gray;flex-grow: 1;}#sk-container-id-1 div.sk-label:hover label.sk-toggleable__label {background-color: #d4ebff;}#sk-container-id-1 div.sk-serial::before {content: \"\";position: absolute;border-left: 1px solid gray;box-sizing: border-box;top: 0;bottom: 0;left: 50%;z-index: 0;}#sk-container-id-1 div.sk-serial {display: flex;flex-direction: column;align-items: center;background-color: white;padding-right: 0.2em;padding-left: 0.2em;position: relative;}#sk-container-id-1 div.sk-item {position: relative;z-index: 1;}#sk-container-id-1 div.sk-parallel {display: flex;align-items: stretch;justify-content: center;background-color: white;position: relative;}#sk-container-id-1 div.sk-item::before, #sk-container-id-1 div.sk-parallel-item::before {content: \"\";position: absolute;border-left: 1px solid gray;box-sizing: border-box;top: 0;bottom: 0;left: 50%;z-index: -1;}#sk-container-id-1 div.sk-parallel-item {display: flex;flex-direction: column;z-index: 1;position: relative;background-color: white;}#sk-container-id-1 div.sk-parallel-item:first-child::after {align-self: flex-end;width: 50%;}#sk-container-id-1 div.sk-parallel-item:last-child::after {align-self: flex-start;width: 50%;}#sk-container-id-1 div.sk-parallel-item:only-child::after {width: 0;}#sk-container-id-1 div.sk-dashed-wrapped {border: 1px dashed gray;margin: 0 0.4em 0.5em 0.4em;box-sizing: border-box;padding-bottom: 0.4em;background-color: white;}#sk-container-id-1 div.sk-label label {font-family: monospace;font-weight: bold;display: inline-block;line-height: 1.2em;}#sk-container-id-1 div.sk-label-container {text-align: center;}#sk-container-id-1 div.sk-container {/* jupyter's `normalize.less` sets `[hidden] { display: none; }` but bootstrap.min.css set `[hidden] { display: none !important; }` so we also need the `!important` here to be able to override the default hidden behavior on the sphinx rendered scikit-learn.org. See: https://github.com/scikit-learn/scikit-learn/issues/21755 */display: inline-block !important;position: relative;}#sk-container-id-1 div.sk-text-repr-fallback {display: none;}</style><div id=\"sk-container-id-1\" class=\"sk-top-container\"><div class=\"sk-text-repr-fallback\"><pre>LinearRegression()</pre><b>In a Jupyter environment, please rerun this cell to show the HTML representation or trust the notebook. <br />On GitHub, the HTML representation is unable to render, please try loading this page with nbviewer.org.</b></div><div class=\"sk-container\" hidden><div class=\"sk-item\"><div class=\"sk-estimator sk-toggleable\"><input class=\"sk-toggleable__control sk-hidden--visually\" id=\"sk-estimator-id-1\" type=\"checkbox\" checked><label for=\"sk-estimator-id-1\" class=\"sk-toggleable__label sk-toggleable__label-arrow\">LinearRegression</label><div class=\"sk-toggleable__content\"><pre>LinearRegression()</pre></div></div></div></div></div>"
      ],
      "text/plain": [
       "LinearRegression()"
      ]
     },
     "execution_count": 24,
     "metadata": {},
     "output_type": "execute_result"
    }
   ],
   "source": [
    "model.fit(features, gpa)\n"
   ]
  },
  {
   "cell_type": "code",
   "execution_count": 39,
   "metadata": {},
   "outputs": [
    {
     "ename": "ValueError",
     "evalue": "Expected 2D array, got 1D array instead:\narray=[79 71 75 74 70 67 73 79 76].\nReshape your data either using array.reshape(-1, 1) if your data has a single feature or array.reshape(1, -1) if it contains a single sample.",
     "output_type": "error",
     "traceback": [
      "\u001b[1;31m---------------------------------------------------------------------------\u001b[0m",
      "\u001b[1;31mValueError\u001b[0m                                Traceback (most recent call last)",
      "\u001b[1;32mc:\\numerical modeling fix deep learning asu\\Maschinelles Lernen\\mascinelles_lernen.ipynb Cell 80\u001b[0m line \u001b[0;36m<cell line: 1>\u001b[1;34m()\u001b[0m\n\u001b[1;32m----> <a href='vscode-notebook-cell:/c%3A/numerical%20modeling%20fix%20deep%20learning%20asu/Maschinelles%20Lernen/mascinelles_lernen.ipynb#Y151sZmlsZQ%3D%3D?line=0'>1</a>\u001b[0m model\u001b[39m.\u001b[39;49mfit(features[:,\u001b[39m0\u001b[39;49m], gpa)\n",
      "File \u001b[1;32m~\\AppData\\Roaming\\Python\\Python310\\site-packages\\sklearn\\linear_model\\_base.py:684\u001b[0m, in \u001b[0;36mLinearRegression.fit\u001b[1;34m(self, X, y, sample_weight)\u001b[0m\n\u001b[0;32m    680\u001b[0m n_jobs_ \u001b[39m=\u001b[39m \u001b[39mself\u001b[39m\u001b[39m.\u001b[39mn_jobs\n\u001b[0;32m    682\u001b[0m accept_sparse \u001b[39m=\u001b[39m \u001b[39mFalse\u001b[39;00m \u001b[39mif\u001b[39;00m \u001b[39mself\u001b[39m\u001b[39m.\u001b[39mpositive \u001b[39melse\u001b[39;00m [\u001b[39m\"\u001b[39m\u001b[39mcsr\u001b[39m\u001b[39m\"\u001b[39m, \u001b[39m\"\u001b[39m\u001b[39mcsc\u001b[39m\u001b[39m\"\u001b[39m, \u001b[39m\"\u001b[39m\u001b[39mcoo\u001b[39m\u001b[39m\"\u001b[39m]\n\u001b[1;32m--> 684\u001b[0m X, y \u001b[39m=\u001b[39m \u001b[39mself\u001b[39;49m\u001b[39m.\u001b[39;49m_validate_data(\n\u001b[0;32m    685\u001b[0m     X, y, accept_sparse\u001b[39m=\u001b[39;49maccept_sparse, y_numeric\u001b[39m=\u001b[39;49m\u001b[39mTrue\u001b[39;49;00m, multi_output\u001b[39m=\u001b[39;49m\u001b[39mTrue\u001b[39;49;00m\n\u001b[0;32m    686\u001b[0m )\n\u001b[0;32m    688\u001b[0m sample_weight \u001b[39m=\u001b[39m _check_sample_weight(\n\u001b[0;32m    689\u001b[0m     sample_weight, X, dtype\u001b[39m=\u001b[39mX\u001b[39m.\u001b[39mdtype, only_non_negative\u001b[39m=\u001b[39m\u001b[39mTrue\u001b[39;00m\n\u001b[0;32m    690\u001b[0m )\n\u001b[0;32m    692\u001b[0m X, y, X_offset, y_offset, X_scale \u001b[39m=\u001b[39m _preprocess_data(\n\u001b[0;32m    693\u001b[0m     X,\n\u001b[0;32m    694\u001b[0m     y,\n\u001b[1;32m   (...)\u001b[0m\n\u001b[0;32m    698\u001b[0m     sample_weight\u001b[39m=\u001b[39msample_weight,\n\u001b[0;32m    699\u001b[0m )\n",
      "File \u001b[1;32m~\\AppData\\Roaming\\Python\\Python310\\site-packages\\sklearn\\base.py:596\u001b[0m, in \u001b[0;36mBaseEstimator._validate_data\u001b[1;34m(self, X, y, reset, validate_separately, **check_params)\u001b[0m\n\u001b[0;32m    594\u001b[0m         y \u001b[39m=\u001b[39m check_array(y, input_name\u001b[39m=\u001b[39m\u001b[39m\"\u001b[39m\u001b[39my\u001b[39m\u001b[39m\"\u001b[39m, \u001b[39m*\u001b[39m\u001b[39m*\u001b[39mcheck_y_params)\n\u001b[0;32m    595\u001b[0m     \u001b[39melse\u001b[39;00m:\n\u001b[1;32m--> 596\u001b[0m         X, y \u001b[39m=\u001b[39m check_X_y(X, y, \u001b[39m*\u001b[39m\u001b[39m*\u001b[39mcheck_params)\n\u001b[0;32m    597\u001b[0m     out \u001b[39m=\u001b[39m X, y\n\u001b[0;32m    599\u001b[0m \u001b[39mif\u001b[39;00m \u001b[39mnot\u001b[39;00m no_val_X \u001b[39mand\u001b[39;00m check_params\u001b[39m.\u001b[39mget(\u001b[39m\"\u001b[39m\u001b[39mensure_2d\u001b[39m\u001b[39m\"\u001b[39m, \u001b[39mTrue\u001b[39;00m):\n",
      "File \u001b[1;32m~\\AppData\\Roaming\\Python\\Python310\\site-packages\\sklearn\\utils\\validation.py:1074\u001b[0m, in \u001b[0;36mcheck_X_y\u001b[1;34m(X, y, accept_sparse, accept_large_sparse, dtype, order, copy, force_all_finite, ensure_2d, allow_nd, multi_output, ensure_min_samples, ensure_min_features, y_numeric, estimator)\u001b[0m\n\u001b[0;32m   1069\u001b[0m         estimator_name \u001b[39m=\u001b[39m _check_estimator_name(estimator)\n\u001b[0;32m   1070\u001b[0m     \u001b[39mraise\u001b[39;00m \u001b[39mValueError\u001b[39;00m(\n\u001b[0;32m   1071\u001b[0m         \u001b[39mf\u001b[39m\u001b[39m\"\u001b[39m\u001b[39m{\u001b[39;00mestimator_name\u001b[39m}\u001b[39;00m\u001b[39m requires y to be passed, but the target y is None\u001b[39m\u001b[39m\"\u001b[39m\n\u001b[0;32m   1072\u001b[0m     )\n\u001b[1;32m-> 1074\u001b[0m X \u001b[39m=\u001b[39m check_array(\n\u001b[0;32m   1075\u001b[0m     X,\n\u001b[0;32m   1076\u001b[0m     accept_sparse\u001b[39m=\u001b[39;49maccept_sparse,\n\u001b[0;32m   1077\u001b[0m     accept_large_sparse\u001b[39m=\u001b[39;49maccept_large_sparse,\n\u001b[0;32m   1078\u001b[0m     dtype\u001b[39m=\u001b[39;49mdtype,\n\u001b[0;32m   1079\u001b[0m     order\u001b[39m=\u001b[39;49morder,\n\u001b[0;32m   1080\u001b[0m     copy\u001b[39m=\u001b[39;49mcopy,\n\u001b[0;32m   1081\u001b[0m     force_all_finite\u001b[39m=\u001b[39;49mforce_all_finite,\n\u001b[0;32m   1082\u001b[0m     ensure_2d\u001b[39m=\u001b[39;49mensure_2d,\n\u001b[0;32m   1083\u001b[0m     allow_nd\u001b[39m=\u001b[39;49mallow_nd,\n\u001b[0;32m   1084\u001b[0m     ensure_min_samples\u001b[39m=\u001b[39;49mensure_min_samples,\n\u001b[0;32m   1085\u001b[0m     ensure_min_features\u001b[39m=\u001b[39;49mensure_min_features,\n\u001b[0;32m   1086\u001b[0m     estimator\u001b[39m=\u001b[39;49mestimator,\n\u001b[0;32m   1087\u001b[0m     input_name\u001b[39m=\u001b[39;49m\u001b[39m\"\u001b[39;49m\u001b[39mX\u001b[39;49m\u001b[39m\"\u001b[39;49m,\n\u001b[0;32m   1088\u001b[0m )\n\u001b[0;32m   1090\u001b[0m y \u001b[39m=\u001b[39m _check_y(y, multi_output\u001b[39m=\u001b[39mmulti_output, y_numeric\u001b[39m=\u001b[39my_numeric, estimator\u001b[39m=\u001b[39mestimator)\n\u001b[0;32m   1092\u001b[0m check_consistent_length(X, y)\n",
      "File \u001b[1;32m~\\AppData\\Roaming\\Python\\Python310\\site-packages\\sklearn\\utils\\validation.py:879\u001b[0m, in \u001b[0;36mcheck_array\u001b[1;34m(array, accept_sparse, accept_large_sparse, dtype, order, copy, force_all_finite, ensure_2d, allow_nd, ensure_min_samples, ensure_min_features, estimator, input_name)\u001b[0m\n\u001b[0;32m    877\u001b[0m     \u001b[39m# If input is 1D raise error\u001b[39;00m\n\u001b[0;32m    878\u001b[0m     \u001b[39mif\u001b[39;00m array\u001b[39m.\u001b[39mndim \u001b[39m==\u001b[39m \u001b[39m1\u001b[39m:\n\u001b[1;32m--> 879\u001b[0m         \u001b[39mraise\u001b[39;00m \u001b[39mValueError\u001b[39;00m(\n\u001b[0;32m    880\u001b[0m             \u001b[39m\"\u001b[39m\u001b[39mExpected 2D array, got 1D array instead:\u001b[39m\u001b[39m\\n\u001b[39;00m\u001b[39marray=\u001b[39m\u001b[39m{}\u001b[39;00m\u001b[39m.\u001b[39m\u001b[39m\\n\u001b[39;00m\u001b[39m\"\u001b[39m\n\u001b[0;32m    881\u001b[0m             \u001b[39m\"\u001b[39m\u001b[39mReshape your data either using array.reshape(-1, 1) if \u001b[39m\u001b[39m\"\u001b[39m\n\u001b[0;32m    882\u001b[0m             \u001b[39m\"\u001b[39m\u001b[39myour data has a single feature or array.reshape(1, -1) \u001b[39m\u001b[39m\"\u001b[39m\n\u001b[0;32m    883\u001b[0m             \u001b[39m\"\u001b[39m\u001b[39mif it contains a single sample.\u001b[39m\u001b[39m\"\u001b[39m\u001b[39m.\u001b[39mformat(array)\n\u001b[0;32m    884\u001b[0m         )\n\u001b[0;32m    886\u001b[0m \u001b[39mif\u001b[39;00m dtype_numeric \u001b[39mand\u001b[39;00m array\u001b[39m.\u001b[39mdtype\u001b[39m.\u001b[39mkind \u001b[39min\u001b[39;00m \u001b[39m\"\u001b[39m\u001b[39mUSV\u001b[39m\u001b[39m\"\u001b[39m:\n\u001b[0;32m    887\u001b[0m     \u001b[39mraise\u001b[39;00m \u001b[39mValueError\u001b[39;00m(\n\u001b[0;32m    888\u001b[0m         \u001b[39m\"\u001b[39m\u001b[39mdtype=\u001b[39m\u001b[39m'\u001b[39m\u001b[39mnumeric\u001b[39m\u001b[39m'\u001b[39m\u001b[39m is not compatible with arrays of bytes/strings.\u001b[39m\u001b[39m\"\u001b[39m\n\u001b[0;32m    889\u001b[0m         \u001b[39m\"\u001b[39m\u001b[39mConvert your data to numeric values explicitly instead.\u001b[39m\u001b[39m\"\u001b[39m\n\u001b[0;32m    890\u001b[0m     )\n",
      "\u001b[1;31mValueError\u001b[0m: Expected 2D array, got 1D array instead:\narray=[79 71 75 74 70 67 73 79 76].\nReshape your data either using array.reshape(-1, 1) if your data has a single feature or array.reshape(1, -1) if it contains a single sample."
     ]
    }
   ],
   "source": [
    "model.fit(features[:,0], gpa)"
   ]
  },
  {
   "cell_type": "code",
   "execution_count": 33,
   "metadata": {},
   "outputs": [
    {
     "name": "stdout",
     "output_type": "stream",
     "text": [
      "parameter: theta 0 = 1.2220434131736537; theta 1 and theta 2 = [0.00440645 0.02866623]\n"
     ]
    }
   ],
   "source": [
    "print(f'parameter: theta 0 = {model.intercept_}; theta 1 and theta 2 = {model.coef_}')"
   ]
  },
  {
   "cell_type": "markdown",
   "metadata": {},
   "source": [
    "Das ergibt als Losung $\\theta_0 = 1.22, \\theta_1 = 0.0044, \\theta_2 = 0.029$\n",
    "\n",
    "GPA = 1.22 + 0.0044*sat math + 0.029 sat english"
   ]
  },
  {
   "cell_type": "code",
   "execution_count": 62,
   "metadata": {},
   "outputs": [
    {
     "data": {
      "text/plain": [
       "array([3.69145433, 3.71353516, 3.44449866, 3.72675452, 3.70912871,\n",
       "       3.40924704, 3.57901691, 3.60545563, 3.19090903])"
      ]
     },
     "execution_count": 62,
     "metadata": {},
     "output_type": "execute_result"
    }
   ],
   "source": [
    "ypred = model.predict(features)\n",
    "gpapred = ypred\n",
    "gpapred"
   ]
  },
  {
   "cell_type": "code",
   "execution_count": 38,
   "metadata": {},
   "outputs": [
    {
     "ename": "ValueError",
     "evalue": "Expected 2D array, got 1D array instead:\narray=[79 71 75 74 70 67 73 79 76].\nReshape your data either using array.reshape(-1, 1) if your data has a single feature or array.reshape(1, -1) if it contains a single sample.",
     "output_type": "error",
     "traceback": [
      "\u001b[1;31m---------------------------------------------------------------------------\u001b[0m",
      "\u001b[1;31mValueError\u001b[0m                                Traceback (most recent call last)",
      "\u001b[1;32mc:\\numerical modeling fix deep learning asu\\Maschinelles Lernen\\mascinelles_lernen.ipynb Cell 83\u001b[0m line \u001b[0;36m<cell line: 1>\u001b[1;34m()\u001b[0m\n\u001b[1;32m----> <a href='vscode-notebook-cell:/c%3A/numerical%20modeling%20fix%20deep%20learning%20asu/Maschinelles%20Lernen/mascinelles_lernen.ipynb#Y150sZmlsZQ%3D%3D?line=0'>1</a>\u001b[0m gpapred2 \u001b[39m=\u001b[39m model\u001b[39m.\u001b[39;49mpredict(features[:,\u001b[39m0\u001b[39;49m])\n",
      "File \u001b[1;32m~\\AppData\\Roaming\\Python\\Python310\\site-packages\\sklearn\\linear_model\\_base.py:386\u001b[0m, in \u001b[0;36mLinearModel.predict\u001b[1;34m(self, X)\u001b[0m\n\u001b[0;32m    372\u001b[0m \u001b[39mdef\u001b[39;00m \u001b[39mpredict\u001b[39m(\u001b[39mself\u001b[39m, X):\n\u001b[0;32m    373\u001b[0m \u001b[39m    \u001b[39m\u001b[39m\"\"\"\u001b[39;00m\n\u001b[0;32m    374\u001b[0m \u001b[39m    Predict using the linear model.\u001b[39;00m\n\u001b[0;32m    375\u001b[0m \n\u001b[1;32m   (...)\u001b[0m\n\u001b[0;32m    384\u001b[0m \u001b[39m        Returns predicted values.\u001b[39;00m\n\u001b[0;32m    385\u001b[0m \u001b[39m    \"\"\"\u001b[39;00m\n\u001b[1;32m--> 386\u001b[0m     \u001b[39mreturn\u001b[39;00m \u001b[39mself\u001b[39;49m\u001b[39m.\u001b[39;49m_decision_function(X)\n",
      "File \u001b[1;32m~\\AppData\\Roaming\\Python\\Python310\\site-packages\\sklearn\\linear_model\\_base.py:369\u001b[0m, in \u001b[0;36mLinearModel._decision_function\u001b[1;34m(self, X)\u001b[0m\n\u001b[0;32m    366\u001b[0m \u001b[39mdef\u001b[39;00m \u001b[39m_decision_function\u001b[39m(\u001b[39mself\u001b[39m, X):\n\u001b[0;32m    367\u001b[0m     check_is_fitted(\u001b[39mself\u001b[39m)\n\u001b[1;32m--> 369\u001b[0m     X \u001b[39m=\u001b[39m \u001b[39mself\u001b[39;49m\u001b[39m.\u001b[39;49m_validate_data(X, accept_sparse\u001b[39m=\u001b[39;49m[\u001b[39m\"\u001b[39;49m\u001b[39mcsr\u001b[39;49m\u001b[39m\"\u001b[39;49m, \u001b[39m\"\u001b[39;49m\u001b[39mcsc\u001b[39;49m\u001b[39m\"\u001b[39;49m, \u001b[39m\"\u001b[39;49m\u001b[39mcoo\u001b[39;49m\u001b[39m\"\u001b[39;49m], reset\u001b[39m=\u001b[39;49m\u001b[39mFalse\u001b[39;49;00m)\n\u001b[0;32m    370\u001b[0m     \u001b[39mreturn\u001b[39;00m safe_sparse_dot(X, \u001b[39mself\u001b[39m\u001b[39m.\u001b[39mcoef_\u001b[39m.\u001b[39mT, dense_output\u001b[39m=\u001b[39m\u001b[39mTrue\u001b[39;00m) \u001b[39m+\u001b[39m \u001b[39mself\u001b[39m\u001b[39m.\u001b[39mintercept_\n",
      "File \u001b[1;32m~\\AppData\\Roaming\\Python\\Python310\\site-packages\\sklearn\\base.py:577\u001b[0m, in \u001b[0;36mBaseEstimator._validate_data\u001b[1;34m(self, X, y, reset, validate_separately, **check_params)\u001b[0m\n\u001b[0;32m    575\u001b[0m     \u001b[39mraise\u001b[39;00m \u001b[39mValueError\u001b[39;00m(\u001b[39m\"\u001b[39m\u001b[39mValidation should be done on X, y or both.\u001b[39m\u001b[39m\"\u001b[39m)\n\u001b[0;32m    576\u001b[0m \u001b[39melif\u001b[39;00m \u001b[39mnot\u001b[39;00m no_val_X \u001b[39mand\u001b[39;00m no_val_y:\n\u001b[1;32m--> 577\u001b[0m     X \u001b[39m=\u001b[39m check_array(X, input_name\u001b[39m=\u001b[39m\u001b[39m\"\u001b[39m\u001b[39mX\u001b[39m\u001b[39m\"\u001b[39m, \u001b[39m*\u001b[39m\u001b[39m*\u001b[39mcheck_params)\n\u001b[0;32m    578\u001b[0m     out \u001b[39m=\u001b[39m X\n\u001b[0;32m    579\u001b[0m \u001b[39melif\u001b[39;00m no_val_X \u001b[39mand\u001b[39;00m \u001b[39mnot\u001b[39;00m no_val_y:\n",
      "File \u001b[1;32m~\\AppData\\Roaming\\Python\\Python310\\site-packages\\sklearn\\utils\\validation.py:879\u001b[0m, in \u001b[0;36mcheck_array\u001b[1;34m(array, accept_sparse, accept_large_sparse, dtype, order, copy, force_all_finite, ensure_2d, allow_nd, ensure_min_samples, ensure_min_features, estimator, input_name)\u001b[0m\n\u001b[0;32m    877\u001b[0m     \u001b[39m# If input is 1D raise error\u001b[39;00m\n\u001b[0;32m    878\u001b[0m     \u001b[39mif\u001b[39;00m array\u001b[39m.\u001b[39mndim \u001b[39m==\u001b[39m \u001b[39m1\u001b[39m:\n\u001b[1;32m--> 879\u001b[0m         \u001b[39mraise\u001b[39;00m \u001b[39mValueError\u001b[39;00m(\n\u001b[0;32m    880\u001b[0m             \u001b[39m\"\u001b[39m\u001b[39mExpected 2D array, got 1D array instead:\u001b[39m\u001b[39m\\n\u001b[39;00m\u001b[39marray=\u001b[39m\u001b[39m{}\u001b[39;00m\u001b[39m.\u001b[39m\u001b[39m\\n\u001b[39;00m\u001b[39m\"\u001b[39m\n\u001b[0;32m    881\u001b[0m             \u001b[39m\"\u001b[39m\u001b[39mReshape your data either using array.reshape(-1, 1) if \u001b[39m\u001b[39m\"\u001b[39m\n\u001b[0;32m    882\u001b[0m             \u001b[39m\"\u001b[39m\u001b[39myour data has a single feature or array.reshape(1, -1) \u001b[39m\u001b[39m\"\u001b[39m\n\u001b[0;32m    883\u001b[0m             \u001b[39m\"\u001b[39m\u001b[39mif it contains a single sample.\u001b[39m\u001b[39m\"\u001b[39m\u001b[39m.\u001b[39mformat(array)\n\u001b[0;32m    884\u001b[0m         )\n\u001b[0;32m    886\u001b[0m \u001b[39mif\u001b[39;00m dtype_numeric \u001b[39mand\u001b[39;00m array\u001b[39m.\u001b[39mdtype\u001b[39m.\u001b[39mkind \u001b[39min\u001b[39;00m \u001b[39m\"\u001b[39m\u001b[39mUSV\u001b[39m\u001b[39m\"\u001b[39m:\n\u001b[0;32m    887\u001b[0m     \u001b[39mraise\u001b[39;00m \u001b[39mValueError\u001b[39;00m(\n\u001b[0;32m    888\u001b[0m         \u001b[39m\"\u001b[39m\u001b[39mdtype=\u001b[39m\u001b[39m'\u001b[39m\u001b[39mnumeric\u001b[39m\u001b[39m'\u001b[39m\u001b[39m is not compatible with arrays of bytes/strings.\u001b[39m\u001b[39m\"\u001b[39m\n\u001b[0;32m    889\u001b[0m         \u001b[39m\"\u001b[39m\u001b[39mConvert your data to numeric values explicitly instead.\u001b[39m\u001b[39m\"\u001b[39m\n\u001b[0;32m    890\u001b[0m     )\n",
      "\u001b[1;31mValueError\u001b[0m: Expected 2D array, got 1D array instead:\narray=[79 71 75 74 70 67 73 79 76].\nReshape your data either using array.reshape(-1, 1) if your data has a single feature or array.reshape(1, -1) if it contains a single sample."
     ]
    }
   ],
   "source": [
    "gpapred2 = model.predict(features[:,0])"
   ]
  },
  {
   "cell_type": "code",
   "execution_count": 37,
   "metadata": {},
   "outputs": [
    {
     "data": {
      "text/plain": [
       "[<matplotlib.lines.Line2D at 0x15ad5a94550>]"
      ]
     },
     "execution_count": 37,
     "metadata": {},
     "output_type": "execute_result"
    },
    {
     "data": {
      "image/png": "[encoded data removed]",
      "text/plain": [
       "<Figure size 432x288 with 1 Axes>"
      ]
     },
     "metadata": {
      "needs_background": "light"
     },
     "output_type": "display_data"
    }
   ],
   "source": [
    "plt.scatter(features[:,0], gpa)\n",
    "plt.plot(features[:,0],gpapred)"
   ]
  },
  {
   "cell_type": "code",
   "execution_count": 64,
   "metadata": {},
   "outputs": [
    {
     "name": "stdout",
     "output_type": "stream",
     "text": [
      "0.516\n"
     ]
    }
   ],
   "source": [
    "# model evaluation\n",
    "R2 = r2_score(gpa, gpapred)\n",
    "R2\n",
    "print(f'{R2:.3f}')"
   ]
  },
  {
   "cell_type": "code",
   "execution_count": 45,
   "metadata": {},
   "outputs": [],
   "source": [
    "def bic(e, k):\n",
    "    bicf = np.log(np.var(e)) + k*np.log(len(e))\n",
    "    return bicf"
   ]
  },
  {
   "cell_type": "code",
   "execution_count": 57,
   "metadata": {},
   "outputs": [
    {
     "name": "stdout",
     "output_type": "stream",
     "text": [
      "<function bic at 0x0000015AD39B24D0>\n"
     ]
    }
   ],
   "source": [
    "print(bic)"
   ]
  },
  {
   "cell_type": "code",
   "execution_count": 63,
   "metadata": {},
   "outputs": [
    {
     "data": {
      "text/plain": [
       "18.38583167459867"
      ]
     },
     "execution_count": 63,
     "metadata": {},
     "output_type": "execute_result"
    }
   ],
   "source": [
    "bic(gpa-gpapred, len(features)+1)"
   ]
  },
  {
   "cell_type": "code",
   "execution_count": 70,
   "metadata": {},
   "outputs": [],
   "source": [
    "xmath = features[:,0]\n",
    "np.c_[xmath]\n",
    "xmathc = np.c_[xmath]"
   ]
  },
  {
   "cell_type": "code",
   "execution_count": 72,
   "metadata": {},
   "outputs": [
    {
     "data": {
      "text/plain": [
       "array([[3.95],\n",
       "       [3.84],\n",
       "       [3.68],\n",
       "       [3.59],\n",
       "       [3.57],\n",
       "       [3.49],\n",
       "       [3.47],\n",
       "       [3.4 ],\n",
       "       [3.08]])"
      ]
     },
     "execution_count": 72,
     "metadata": {},
     "output_type": "execute_result"
    }
   ],
   "source": [
    "gpac = np.c_[gpa]\n",
    "gpac"
   ]
  },
  {
   "cell_type": "code",
   "execution_count": 73,
   "metadata": {},
   "outputs": [
    {
     "data": {
      "text/html": [
       "<style>#sk-container-id-2 {color: black;background-color: white;}#sk-container-id-2 pre{padding: 0;}#sk-container-id-2 div.sk-toggleable {background-color: white;}#sk-container-id-2 label.sk-toggleable__label {cursor: pointer;display: block;width: 100%;margin-bottom: 0;padding: 0.3em;box-sizing: border-box;text-align: center;}#sk-container-id-2 label.sk-toggleable__label-arrow:before {content: \"▸\";float: left;margin-right: 0.25em;color: #696969;}#sk-container-id-2 label.sk-toggleable__label-arrow:hover:before {color: black;}#sk-container-id-2 div.sk-estimator:hover label.sk-toggleable__label-arrow:before {color: black;}#sk-container-id-2 div.sk-toggleable__content {max-height: 0;max-width: 0;overflow: hidden;text-align: left;background-color: #f0f8ff;}#sk-container-id-2 div.sk-toggleable__content pre {margin: 0.2em;color: black;border-radius: 0.25em;background-color: #f0f8ff;}#sk-container-id-2 input.sk-toggleable__control:checked~div.sk-toggleable__content {max-height: 200px;max-width: 100%;overflow: auto;}#sk-container-id-2 input.sk-toggleable__control:checked~label.sk-toggleable__label-arrow:before {content: \"▾\";}#sk-container-id-2 div.sk-estimator input.sk-toggleable__control:checked~label.sk-toggleable__label {background-color: #d4ebff;}#sk-container-id-2 div.sk-label input.sk-toggleable__control:checked~label.sk-toggleable__label {background-color: #d4ebff;}#sk-container-id-2 input.sk-hidden--visually {border: 0;clip: rect(1px 1px 1px 1px);clip: rect(1px, 1px, 1px, 1px);height: 1px;margin: -1px;overflow: hidden;padding: 0;position: absolute;width: 1px;}#sk-container-id-2 div.sk-estimator {font-family: monospace;background-color: #f0f8ff;border: 1px dotted black;border-radius: 0.25em;box-sizing: border-box;margin-bottom: 0.5em;}#sk-container-id-2 div.sk-estimator:hover {background-color: #d4ebff;}#sk-container-id-2 div.sk-parallel-item::after {content: \"\";width: 100%;border-bottom: 1px solid gray;flex-grow: 1;}#sk-container-id-2 div.sk-label:hover label.sk-toggleable__label {background-color: #d4ebff;}#sk-container-id-2 div.sk-serial::before {content: \"\";position: absolute;border-left: 1px solid gray;box-sizing: border-box;top: 0;bottom: 0;left: 50%;z-index: 0;}#sk-container-id-2 div.sk-serial {display: flex;flex-direction: column;align-items: center;background-color: white;padding-right: 0.2em;padding-left: 0.2em;position: relative;}#sk-container-id-2 div.sk-item {position: relative;z-index: 1;}#sk-container-id-2 div.sk-parallel {display: flex;align-items: stretch;justify-content: center;background-color: white;position: relative;}#sk-container-id-2 div.sk-item::before, #sk-container-id-2 div.sk-parallel-item::before {content: \"\";position: absolute;border-left: 1px solid gray;box-sizing: border-box;top: 0;bottom: 0;left: 50%;z-index: -1;}#sk-container-id-2 div.sk-parallel-item {display: flex;flex-direction: column;z-index: 1;position: relative;background-color: white;}#sk-container-id-2 div.sk-parallel-item:first-child::after {align-self: flex-end;width: 50%;}#sk-container-id-2 div.sk-parallel-item:last-child::after {align-self: flex-start;width: 50%;}#sk-container-id-2 div.sk-parallel-item:only-child::after {width: 0;}#sk-container-id-2 div.sk-dashed-wrapped {border: 1px dashed gray;margin: 0 0.4em 0.5em 0.4em;box-sizing: border-box;padding-bottom: 0.4em;background-color: white;}#sk-container-id-2 div.sk-label label {font-family: monospace;font-weight: bold;display: inline-block;line-height: 1.2em;}#sk-container-id-2 div.sk-label-container {text-align: center;}#sk-container-id-2 div.sk-container {/* jupyter's `normalize.less` sets `[hidden] { display: none; }` but bootstrap.min.css set `[hidden] { display: none !important; }` so we also need the `!important` here to be able to override the default hidden behavior on the sphinx rendered scikit-learn.org. See: https://github.com/scikit-learn/scikit-learn/issues/21755 */display: inline-block !important;position: relative;}#sk-container-id-2 div.sk-text-repr-fallback {display: none;}</style><div id=\"sk-container-id-2\" class=\"sk-top-container\"><div class=\"sk-text-repr-fallback\"><pre>LinearRegression()</pre><b>In a Jupyter environment, please rerun this cell to show the HTML representation or trust the notebook. <br />On GitHub, the HTML representation is unable to render, please try loading this page with nbviewer.org.</b></div><div class=\"sk-container\" hidden><div class=\"sk-item\"><div class=\"sk-estimator sk-toggleable\"><input class=\"sk-toggleable__control sk-hidden--visually\" id=\"sk-estimator-id-2\" type=\"checkbox\" checked><label for=\"sk-estimator-id-2\" class=\"sk-toggleable__label sk-toggleable__label-arrow\">LinearRegression</label><div class=\"sk-toggleable__content\"><pre>LinearRegression()</pre></div></div></div></div></div>"
      ],
      "text/plain": [
       "LinearRegression()"
      ]
     },
     "execution_count": 73,
     "metadata": {},
     "output_type": "execute_result"
    }
   ],
   "source": [
    "model.fit(xmathc, gpac)"
   ]
  },
  {
   "cell_type": "code",
   "execution_count": 74,
   "metadata": {},
   "outputs": [],
   "source": [
    "gpapredmath = model.predict(xmathc)"
   ]
  },
  {
   "cell_type": "code",
   "execution_count": 76,
   "metadata": {},
   "outputs": [
    {
     "data": {
      "text/plain": [
       "<matplotlib.collections.PathCollection at 0x15ad64d81f0>"
      ]
     },
     "execution_count": 76,
     "metadata": {},
     "output_type": "execute_result"
    },
    {
     "data": {
      "image/png": "[encoded data removed]",
      "text/plain": [
       "<Figure size 432x288 with 1 Axes>"
      ]
     },
     "metadata": {
      "needs_background": "light"
     },
     "output_type": "display_data"
    }
   ],
   "source": [
    "plt.plot(xmathc, gpapredmath)\n",
    "plt.scatter(xmathc, gpac)"
   ]
  },
  {
   "cell_type": "code",
   "execution_count": 77,
   "metadata": {},
   "outputs": [
    {
     "data": {
      "text/plain": [
       "array([3.5538422])"
      ]
     },
     "execution_count": 77,
     "metadata": {},
     "output_type": "execute_result"
    }
   ],
   "source": [
    "model.intercept_"
   ]
  },
  {
   "cell_type": "code",
   "execution_count": 78,
   "metadata": {},
   "outputs": [
    {
     "data": {
      "text/plain": [
       "array([[0.00012864]])"
      ]
     },
     "execution_count": 78,
     "metadata": {},
     "output_type": "execute_result"
    }
   ],
   "source": [
    "model.coef_"
   ]
  },
  {
   "cell_type": "code",
   "execution_count": 79,
   "metadata": {},
   "outputs": [
    {
     "data": {
      "text/plain": [
       "4.164884096158339e-06"
      ]
     },
     "execution_count": 79,
     "metadata": {},
     "output_type": "execute_result"
    }
   ],
   "source": [
    "r2_score(gpac, gpapredmath)"
   ]
  },
  {
   "cell_type": "code",
   "execution_count": 81,
   "metadata": {},
   "outputs": [
    {
     "data": {
      "text/plain": [
       "array([[74],\n",
       "       [76],\n",
       "       [66],\n",
       "       [76],\n",
       "       [76],\n",
       "       [66],\n",
       "       [71],\n",
       "       [71],\n",
       "       [57]])"
      ]
     },
     "execution_count": 81,
     "metadata": {},
     "output_type": "execute_result"
    }
   ],
   "source": [
    "# sat english and gpa\n",
    "english = features[:,1]\n",
    "english\n",
    "englishc = np.c_[english]\n",
    "englishc"
   ]
  },
  {
   "cell_type": "code",
   "execution_count": 82,
   "metadata": {},
   "outputs": [
    {
     "data": {
      "text/plain": [
       "array([[3.95],\n",
       "       [3.84],\n",
       "       [3.68],\n",
       "       [3.59],\n",
       "       [3.57],\n",
       "       [3.49],\n",
       "       [3.47],\n",
       "       [3.4 ],\n",
       "       [3.08]])"
      ]
     },
     "execution_count": 82,
     "metadata": {},
     "output_type": "execute_result"
    }
   ],
   "source": [
    "gpac"
   ]
  },
  {
   "cell_type": "code",
   "execution_count": 83,
   "metadata": {},
   "outputs": [
    {
     "data": {
      "text/html": [
       "<style>#sk-container-id-3 {color: black;background-color: white;}#sk-container-id-3 pre{padding: 0;}#sk-container-id-3 div.sk-toggleable {background-color: white;}#sk-container-id-3 label.sk-toggleable__label {cursor: pointer;display: block;width: 100%;margin-bottom: 0;padding: 0.3em;box-sizing: border-box;text-align: center;}#sk-container-id-3 label.sk-toggleable__label-arrow:before {content: \"▸\";float: left;margin-right: 0.25em;color: #696969;}#sk-container-id-3 label.sk-toggleable__label-arrow:hover:before {color: black;}#sk-container-id-3 div.sk-estimator:hover label.sk-toggleable__label-arrow:before {color: black;}#sk-container-id-3 div.sk-toggleable__content {max-height: 0;max-width: 0;overflow: hidden;text-align: left;background-color: #f0f8ff;}#sk-container-id-3 div.sk-toggleable__content pre {margin: 0.2em;color: black;border-radius: 0.25em;background-color: #f0f8ff;}#sk-container-id-3 input.sk-toggleable__control:checked~div.sk-toggleable__content {max-height: 200px;max-width: 100%;overflow: auto;}#sk-container-id-3 input.sk-toggleable__control:checked~label.sk-toggleable__label-arrow:before {content: \"▾\";}#sk-container-id-3 div.sk-estimator input.sk-toggleable__control:checked~label.sk-toggleable__label {background-color: #d4ebff;}#sk-container-id-3 div.sk-label input.sk-toggleable__control:checked~label.sk-toggleable__label {background-color: #d4ebff;}#sk-container-id-3 input.sk-hidden--visually {border: 0;clip: rect(1px 1px 1px 1px);clip: rect(1px, 1px, 1px, 1px);height: 1px;margin: -1px;overflow: hidden;padding: 0;position: absolute;width: 1px;}#sk-container-id-3 div.sk-estimator {font-family: monospace;background-color: #f0f8ff;border: 1px dotted black;border-radius: 0.25em;box-sizing: border-box;margin-bottom: 0.5em;}#sk-container-id-3 div.sk-estimator:hover {background-color: #d4ebff;}#sk-container-id-3 div.sk-parallel-item::after {content: \"\";width: 100%;border-bottom: 1px solid gray;flex-grow: 1;}#sk-container-id-3 div.sk-label:hover label.sk-toggleable__label {background-color: #d4ebff;}#sk-container-id-3 div.sk-serial::before {content: \"\";position: absolute;border-left: 1px solid gray;box-sizing: border-box;top: 0;bottom: 0;left: 50%;z-index: 0;}#sk-container-id-3 div.sk-serial {display: flex;flex-direction: column;align-items: center;background-color: white;padding-right: 0.2em;padding-left: 0.2em;position: relative;}#sk-container-id-3 div.sk-item {position: relative;z-index: 1;}#sk-container-id-3 div.sk-parallel {display: flex;align-items: stretch;justify-content: center;background-color: white;position: relative;}#sk-container-id-3 div.sk-item::before, #sk-container-id-3 div.sk-parallel-item::before {content: \"\";position: absolute;border-left: 1px solid gray;box-sizing: border-box;top: 0;bottom: 0;left: 50%;z-index: -1;}#sk-container-id-3 div.sk-parallel-item {display: flex;flex-direction: column;z-index: 1;position: relative;background-color: white;}#sk-container-id-3 div.sk-parallel-item:first-child::after {align-self: flex-end;width: 50%;}#sk-container-id-3 div.sk-parallel-item:last-child::after {align-self: flex-start;width: 50%;}#sk-container-id-3 div.sk-parallel-item:only-child::after {width: 0;}#sk-container-id-3 div.sk-dashed-wrapped {border: 1px dashed gray;margin: 0 0.4em 0.5em 0.4em;box-sizing: border-box;padding-bottom: 0.4em;background-color: white;}#sk-container-id-3 div.sk-label label {font-family: monospace;font-weight: bold;display: inline-block;line-height: 1.2em;}#sk-container-id-3 div.sk-label-container {text-align: center;}#sk-container-id-3 div.sk-container {/* jupyter's `normalize.less` sets `[hidden] { display: none; }` but bootstrap.min.css set `[hidden] { display: none !important; }` so we also need the `!important` here to be able to override the default hidden behavior on the sphinx rendered scikit-learn.org. See: https://github.com/scikit-learn/scikit-learn/issues/21755 */display: inline-block !important;position: relative;}#sk-container-id-3 div.sk-text-repr-fallback {display: none;}</style><div id=\"sk-container-id-3\" class=\"sk-top-container\"><div class=\"sk-text-repr-fallback\"><pre>LinearRegression()</pre><b>In a Jupyter environment, please rerun this cell to show the HTML representation or trust the notebook. <br />On GitHub, the HTML representation is unable to render, please try loading this page with nbviewer.org.</b></div><div class=\"sk-container\" hidden><div class=\"sk-item\"><div class=\"sk-estimator sk-toggleable\"><input class=\"sk-toggleable__control sk-hidden--visually\" id=\"sk-estimator-id-3\" type=\"checkbox\" checked><label for=\"sk-estimator-id-3\" class=\"sk-toggleable__label sk-toggleable__label-arrow\">LinearRegression</label><div class=\"sk-toggleable__content\"><pre>LinearRegression()</pre></div></div></div></div></div>"
      ],
      "text/plain": [
       "LinearRegression()"
      ]
     },
     "execution_count": 83,
     "metadata": {},
     "output_type": "execute_result"
    }
   ],
   "source": [
    "model.fit(englishc, gpac)"
   ]
  },
  {
   "cell_type": "code",
   "execution_count": 84,
   "metadata": {},
   "outputs": [],
   "source": [
    "gpapredenglish = model.predict(englishc)"
   ]
  },
  {
   "cell_type": "code",
   "execution_count": 86,
   "metadata": {},
   "outputs": [
    {
     "data": {
      "text/plain": [
       "[<matplotlib.lines.Line2D at 0x15ad6560520>]"
      ]
     },
     "execution_count": 86,
     "metadata": {},
     "output_type": "execute_result"
    },
    {
     "data": {
      "image/png": "[encoded data removed]",
      "text/plain": [
       "<Figure size 432x288 with 1 Axes>"
      ]
     },
     "metadata": {
      "needs_background": "light"
     },
     "output_type": "display_data"
    }
   ],
   "source": [
    "plt.scatter(englishc, gpac)\n",
    "plt.plot(englishc, gpapredenglish)"
   ]
  },
  {
   "cell_type": "code",
   "execution_count": 87,
   "metadata": {},
   "outputs": [
    {
     "data": {
      "text/plain": [
       "array([1.56552147])"
      ]
     },
     "execution_count": 87,
     "metadata": {},
     "output_type": "execute_result"
    }
   ],
   "source": [
    "model.intercept_"
   ]
  },
  {
   "cell_type": "code",
   "execution_count": 88,
   "metadata": {},
   "outputs": [
    {
     "data": {
      "text/plain": [
       "array([[0.02840491]])"
      ]
     },
     "execution_count": 88,
     "metadata": {},
     "output_type": "execute_result"
    }
   ],
   "source": [
    "model.coef_"
   ]
  },
  {
   "cell_type": "code",
   "execution_count": 89,
   "metadata": {},
   "outputs": [
    {
     "data": {
      "text/plain": [
       "0.5109352133892016"
      ]
     },
     "execution_count": 89,
     "metadata": {},
     "output_type": "execute_result"
    }
   ],
   "source": [
    "r2_score(gpac, gpapredenglish)"
   ]
  },
  {
   "cell_type": "code",
   "execution_count": 90,
   "metadata": {},
   "outputs": [],
   "source": [
    "import mpl_toolkits.mplot3d"
   ]
  },
  {
   "cell_type": "code",
   "execution_count": 95,
   "metadata": {},
   "outputs": [
    {
     "data": {
      "image/png": "[encoded data removed]",
      "text/plain": [
       "<Figure size 432x288 with 1 Axes>"
      ]
     },
     "metadata": {
      "needs_background": "light"
     },
     "output_type": "display_data"
    }
   ],
   "source": [
    "ax = plt.axes(projection='3d')\n",
    "ax.scatter(xmathc, englishc, gpac)\n",
    "ax.view_init(azim=-130, elev=24)"
   ]
  },
  {
   "cell_type": "code",
   "execution_count": 97,
   "metadata": {},
   "outputs": [
    {
     "data": {
      "text/plain": [
       "array([79, 71, 75, 74, 70, 67, 73, 79, 76])"
      ]
     },
     "execution_count": 97,
     "metadata": {},
     "output_type": "execute_result"
    }
   ],
   "source": [
    "features[:,0]"
   ]
  },
  {
   "cell_type": "code",
   "execution_count": 99,
   "metadata": {},
   "outputs": [
    {
     "data": {
      "text/plain": [
       "array([[79, 74],\n",
       "       [71, 76],\n",
       "       [75, 66],\n",
       "       [74, 76],\n",
       "       [70, 76],\n",
       "       [67, 66],\n",
       "       [73, 71],\n",
       "       [79, 71],\n",
       "       [76, 57]])"
      ]
     },
     "execution_count": 99,
     "metadata": {},
     "output_type": "execute_result"
    }
   ],
   "source": [
    "x =np.c_[features]\n",
    "x"
   ]
  },
  {
   "cell_type": "code",
   "execution_count": 100,
   "metadata": {},
   "outputs": [
    {
     "data": {
      "text/plain": [
       "array([79, 71, 75, 74, 70, 67, 73, 79, 76])"
      ]
     },
     "execution_count": 100,
     "metadata": {},
     "output_type": "execute_result"
    }
   ],
   "source": [
    "x[:,0]"
   ]
  },
  {
   "cell_type": "code",
   "execution_count": 106,
   "metadata": {},
   "outputs": [
    {
     "data": {
      "text/plain": [
       "array([[3.95],\n",
       "       [3.84],\n",
       "       [3.68],\n",
       "       [3.59],\n",
       "       [3.57],\n",
       "       [3.49],\n",
       "       [3.47],\n",
       "       [3.4 ],\n",
       "       [3.08]])"
      ]
     },
     "execution_count": 106,
     "metadata": {},
     "output_type": "execute_result"
    }
   ],
   "source": [
    "y = np.c_[gpa]\n",
    "y"
   ]
  },
  {
   "cell_type": "code",
   "execution_count": 107,
   "metadata": {},
   "outputs": [
    {
     "data": {
      "text/plain": [
       "array([3.95, 3.84, 3.68, 3.59, 3.57, 3.49, 3.47, 3.4 , 3.08])"
      ]
     },
     "execution_count": 107,
     "metadata": {},
     "output_type": "execute_result"
    }
   ],
   "source": [
    "y.ravel()"
   ]
  },
  {
   "cell_type": "code",
   "execution_count": null,
   "metadata": {},
   "outputs": [],
   "source": [
    "mg = np.meshgrid"
   ]
  },
  {
   "cell_type": "code",
   "execution_count": 109,
   "metadata": {},
   "outputs": [
    {
     "data": {
      "text/plain": [
       "array([79, 71, 75, 74, 70, 67, 73, 79, 76])"
      ]
     },
     "execution_count": 109,
     "metadata": {},
     "output_type": "execute_result"
    }
   ],
   "source": [
    "np.r_[x[:,0]] #-> r = ravel\n"
   ]
  },
  {
   "cell_type": "markdown",
   "metadata": {},
   "source": [
    "<h1>Learning Pytorch"
   ]
  },
  {
   "cell_type": "code",
   "execution_count": 1,
   "metadata": {},
   "outputs": [],
   "source": [
    "import torch.nn as nn"
   ]
  },
  {
   "cell_type": "code",
   "execution_count": 3,
   "metadata": {},
   "outputs": [],
   "source": [
    "model = nn.Sequential(\n",
    "    nn.Linear(8, 12),\n",
    "    nn.ReLU(),\n",
    "    nn.Linear(12,8),\n",
    "    nn.ReLU(),\n",
    "    nn.Linear(8,1),\n",
    "    nn.Sigmoid()\n",
    ")"
   ]
  },
  {
   "cell_type": "code",
   "execution_count": 4,
   "metadata": {},
   "outputs": [
    {
     "name": "stdout",
     "output_type": "stream",
     "text": [
      "Sequential(\n",
      "  (0): Linear(in_features=8, out_features=12, bias=True)\n",
      "  (1): ReLU()\n",
      "  (2): Linear(in_features=12, out_features=8, bias=True)\n",
      "  (3): ReLU()\n",
      "  (4): Linear(in_features=8, out_features=1, bias=True)\n",
      "  (5): Sigmoid()\n",
      ")\n"
     ]
    }
   ],
   "source": [
    "print(model)"
   ]
  },
  {
   "cell_type": "code",
   "execution_count": 5,
   "metadata": {},
   "outputs": [],
   "source": [
    "import numpy as np \n",
    "import torch as tc \n",
    "import torch.optim as optim"
   ]
  },
  {
   "cell_type": "code",
   "execution_count": null,
   "metadata": {},
   "outputs": [],
   "source": [
    "dataset = np.loadtxt(\"\", delimiter=\",\")\n",
    "x =\n",
    "y =\n",
    "\n",
    "\n",
    "loss_function = \n",
    "optimizer = \n",
    "n_epochs = \n",
    "batch_size = \n",
    "for :\n",
    "    for :\n",
    "\n",
    "\n",
    "    print(\"\")"
   ]
  },
  {
   "cell_type": "code",
   "execution_count": null,
   "metadata": {},
   "outputs": [],
   "source": []
  }
 ],
 "metadata": {
  "kernelspec": {
   "display_name": "Python 3",
   "language": "python",
   "name": "python3"
  },
  "language_info": {
   "codemirror_mode": {
    "name": "ipython",
    "version": 3
   },
   "file_extension": ".py",
   "mimetype": "text/x-python",
   "name": "python",
   "nbconvert_exporter": "python",
   "pygments_lexer": "ipython3",
   "version": "3.10.2"
  }
 },
 "nbformat": 4,
 "nbformat_minor": 2
}
